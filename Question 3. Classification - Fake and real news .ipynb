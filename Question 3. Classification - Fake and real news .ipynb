{
 "cells": [
  {
   "cell_type": "code",
   "execution_count": 1,
   "id": "743c9909",
   "metadata": {},
   "outputs": [],
   "source": [
    "import findspark\n",
    "findspark.init()"
   ]
  },
  {
   "cell_type": "code",
   "execution_count": 2,
   "id": "5d0b2205",
   "metadata": {},
   "outputs": [],
   "source": [
    "import seaborn as sns\n",
    "import pandas as pd\n",
    "import matplotlib.pyplot as plt\n",
    "\n",
    "import pyspark\n",
    "from pyspark.sql import SparkSession\n",
    "from pyspark.sql.functions import *\n",
    "from pyspark.ml import Pipeline\n",
    "from pyspark.ml.feature import StringIndexer, VectorAssembler\n",
    "from pyspark.ml.feature import CountVectorizer, IDF, StopWordsRemover, Tokenizer\n",
    "from pyspark.ml.classification import NaiveBayes, RandomForestClassifier\n",
    "from pyspark.ml.evaluation import MulticlassClassificationEvaluator\n",
    "from pyspark.sql import Row\n",
    "from pyspark.ml.linalg import Vectors\n",
    "\n",
    "import string\n",
    "\n",
    "import warnings\n",
    "warnings.filterwarnings(\"ignore\")"
   ]
  },
  {
   "cell_type": "code",
   "execution_count": 3,
   "id": "517a70a5",
   "metadata": {},
   "outputs": [],
   "source": [
    "spark = SparkSession.builder.appName('FakeRealNews').getOrCreate()"
   ]
  },
  {
   "cell_type": "markdown",
   "id": "08f86e24",
   "metadata": {},
   "source": [
    "# <font color='Mediumblue'>Table Contents</font> </br>\n",
    "\n",
    "<details>\n",
    "    <summary>Click for details</summary>\n",
    "\n",
    "\n",
    "1. [Overview about data](#overview) <br/> <br />\n",
    "\n",
    "2. [Pre-process data](#preprocess) <br /> <br />\n",
    "\n",
    "    2.1. [Cleaning dataset](#clean)\n",
    "    \n",
    "    > 2.1.1. [Dealing with leaking information 1](#leak1)\n",
    "    \n",
    "    > > [Cleaning text function](#clean1)\n",
    "    \n",
    "    > 2.1.2. [Dealing with leaking information 2](#leak2)\n",
    "    \n",
    "    > 2.1.3. [Remove duplicates](#dup)\n",
    "    \n",
    "    2.2. [Feature Transformations](#NLP)\n",
    "<br>\n",
    "\n",
    "3. [Building model](#model)<br /> <br />\n",
    "    \n",
    "    3.1. [Naive Bayes](#naive)\n",
    "    \n",
    "    > 3.1.1 [Naive Bayes with title column](#title)\n",
    "    \n",
    "    > 3.1.2 [Naive Bayes with text column](#text)\n",
    "    \n",
    "    3.2. [Random Forest](#tree)\n",
    "\n",
    "<br>     \n",
    "</details>"
   ]
  },
  {
   "cell_type": "markdown",
   "id": "56fc9e6e",
   "metadata": {},
   "source": [
    "## <a name=\"overview\">1. Overview about data</a>"
   ]
  },
  {
   "cell_type": "markdown",
   "id": "06611d9f",
   "metadata": {},
   "source": [
    "#### <a name=\"fake\">1.1. Overview about fake news data</a>"
   ]
  },
  {
   "cell_type": "code",
   "execution_count": 4,
   "id": "e40abdbf",
   "metadata": {},
   "outputs": [],
   "source": [
    "fake = spark.read.csv(\"fake-and-real-news-dataset/Fake.csv\", inferSchema = True, header = True)"
   ]
  },
  {
   "cell_type": "code",
   "execution_count": 5,
   "id": "6fadd7b4",
   "metadata": {},
   "outputs": [
    {
     "name": "stdout",
     "output_type": "stream",
     "text": [
      "root\n",
      " |-- title: string (nullable = true)\n",
      " |-- text: string (nullable = true)\n",
      " |-- subject: string (nullable = true)\n",
      " |-- date: string (nullable = true)\n",
      "\n"
     ]
    }
   ],
   "source": [
    "fake.printSchema()"
   ]
  },
  {
   "cell_type": "code",
   "execution_count": 6,
   "id": "fddd851a",
   "metadata": {},
   "outputs": [
    {
     "data": {
      "text/plain": [
       "23489"
      ]
     },
     "execution_count": 6,
     "metadata": {},
     "output_type": "execute_result"
    }
   ],
   "source": [
    "fake.count()"
   ]
  },
  {
   "cell_type": "code",
   "execution_count": 7,
   "id": "ed771c1b",
   "metadata": {},
   "outputs": [
    {
     "name": "stdout",
     "output_type": "stream",
     "text": [
      "+--------------------+--------------------+-------+-----------------+\n",
      "|               title|                text|subject|             date|\n",
      "+--------------------+--------------------+-------+-----------------+\n",
      "| Donald Trump Sen...|Donald Trump just...|   News|December 31, 2017|\n",
      "| Drunk Bragging T...|House Intelligenc...|   News|December 31, 2017|\n",
      "| Sheriff David Cl...|On Friday, it was...|   News|December 30, 2017|\n",
      "+--------------------+--------------------+-------+-----------------+\n",
      "only showing top 3 rows\n",
      "\n"
     ]
    }
   ],
   "source": [
    "fake.show(3)"
   ]
  },
  {
   "cell_type": "markdown",
   "id": "866c99ad",
   "metadata": {},
   "source": [
    "<b> Add column Fake/Real and Fake is 0</b>"
   ]
  },
  {
   "cell_type": "code",
   "execution_count": 8,
   "id": "5da51601",
   "metadata": {},
   "outputs": [
    {
     "name": "stdout",
     "output_type": "stream",
     "text": [
      "+--------------------+--------------------+-------+-----------------+---------+\n",
      "|               title|                text|subject|             date|Fake/Real|\n",
      "+--------------------+--------------------+-------+-----------------+---------+\n",
      "| Donald Trump Sen...|Donald Trump just...|   News|December 31, 2017|        0|\n",
      "| Drunk Bragging T...|House Intelligenc...|   News|December 31, 2017|        0|\n",
      "| Sheriff David Cl...|On Friday, it was...|   News|December 30, 2017|        0|\n",
      "| Trump Is So Obse...|On Christmas day,...|   News|December 29, 2017|        0|\n",
      "| Pope Francis Jus...|Pope Francis used...|   News|December 25, 2017|        0|\n",
      "| Racist Alabama C...|The number of cas...|   News|December 25, 2017|        0|\n",
      "| Fresh Off The Go...|Donald Trump spen...|   News|December 23, 2017|        0|\n",
      "| Trump Said Some ...|In the wake of ye...|   News|December 23, 2017|        0|\n",
      "| Former CIA Direc...|Many people have ...|   News|December 22, 2017|        0|\n",
      "| WATCH: Brand-New...|Just when you mig...|   News|December 21, 2017|        0|\n",
      "| Papa John’s Foun...|A centerpiece of ...|   News|December 21, 2017|        0|\n",
      "| WATCH: Paul Ryan...|Republicans are w...|   News|December 21, 2017|        0|\n",
      "| Bad News For Tru...|Republicans have ...|   News|December 21, 2017|        0|\n",
      "| WATCH: Lindsey G...|The media has bee...|   News|December 20, 2017|        0|\n",
      "| Heiress To Disne...|Abigail Disney is...|   News|December 20, 2017|        0|\n",
      "| Tone Deaf Trump:...|Donald Trump just...|   News|December 20, 2017|        0|\n",
      "| The Internet Bru...|A new animatronic...|   News|December 19, 2017|        0|\n",
      "| Mueller Spokesma...|Trump supporters ...|   News|December 17, 2017|        0|\n",
      "| SNL Hilariously ...|Right now, the wh...|   News|December 17, 2017|        0|\n",
      "| Republican Senat...|Senate Majority W...|   News|December 16, 2017|        0|\n",
      "+--------------------+--------------------+-------+-----------------+---------+\n",
      "only showing top 20 rows\n",
      "\n"
     ]
    }
   ],
   "source": [
    "fake = fake.withColumn(\"Fake/Real\", lit(0))\n",
    "fake.show()"
   ]
  },
  {
   "cell_type": "markdown",
   "id": "a28da2b3",
   "metadata": {},
   "source": [
    "#### <a name=\"true\">1.2 Overview about true news data</a>"
   ]
  },
  {
   "cell_type": "code",
   "execution_count": 9,
   "id": "2abb4f1b",
   "metadata": {},
   "outputs": [],
   "source": [
    "real = spark.read.csv(\"fake-and-real-news-dataset/True.csv\", inferSchema = True, header = True)"
   ]
  },
  {
   "cell_type": "code",
   "execution_count": 10,
   "id": "41c02493",
   "metadata": {},
   "outputs": [
    {
     "name": "stdout",
     "output_type": "stream",
     "text": [
      "root\n",
      " |-- title: string (nullable = true)\n",
      " |-- text: string (nullable = true)\n",
      " |-- subject: string (nullable = true)\n",
      " |-- date: string (nullable = true)\n",
      "\n"
     ]
    }
   ],
   "source": [
    "real.printSchema()"
   ]
  },
  {
   "cell_type": "code",
   "execution_count": 11,
   "id": "14fa13d9",
   "metadata": {},
   "outputs": [
    {
     "data": {
      "text/plain": [
       "21417"
      ]
     },
     "execution_count": 11,
     "metadata": {},
     "output_type": "execute_result"
    }
   ],
   "source": [
    "real.count()"
   ]
  },
  {
   "cell_type": "code",
   "execution_count": 12,
   "id": "d47f6ace",
   "metadata": {},
   "outputs": [
    {
     "name": "stdout",
     "output_type": "stream",
     "text": [
      "+--------------------+--------------------+------------+------------------+\n",
      "|               title|                text|     subject|              date|\n",
      "+--------------------+--------------------+------------+------------------+\n",
      "|As U.S. budget fi...|WASHINGTON (Reute...|politicsNews|December 31, 2017 |\n",
      "|U.S. military to ...|WASHINGTON (Reute...|politicsNews|December 29, 2017 |\n",
      "|Senior U.S. Repub...|WASHINGTON (Reute...|politicsNews|December 31, 2017 |\n",
      "+--------------------+--------------------+------------+------------------+\n",
      "only showing top 3 rows\n",
      "\n"
     ]
    }
   ],
   "source": [
    "real.show(3)"
   ]
  },
  {
   "cell_type": "markdown",
   "id": "d93ba3cc",
   "metadata": {},
   "source": [
    "<b> Add column Fake/Real and Real is 1</b>"
   ]
  },
  {
   "cell_type": "code",
   "execution_count": 13,
   "id": "0d5e9b9f",
   "metadata": {},
   "outputs": [
    {
     "name": "stdout",
     "output_type": "stream",
     "text": [
      "+--------------------+--------------------+--------------------+------------------+---------+\n",
      "|               title|                text|             subject|              date|Fake/Real|\n",
      "+--------------------+--------------------+--------------------+------------------+---------+\n",
      "|As U.S. budget fi...|WASHINGTON (Reute...|        politicsNews|December 31, 2017 |        1|\n",
      "|U.S. military to ...|WASHINGTON (Reute...|        politicsNews|December 29, 2017 |        1|\n",
      "|Senior U.S. Repub...|WASHINGTON (Reute...|        politicsNews|December 31, 2017 |        1|\n",
      "|FBI Russia probe ...|WASHINGTON (Reute...|        politicsNews|December 30, 2017 |        1|\n",
      "|Trump wants Posta...|SEATTLE/WASHINGTO...|        politicsNews|December 29, 2017 |        1|\n",
      "|White House, Cong...|WEST PALM BEACH, ...|        politicsNews|December 29, 2017 |        1|\n",
      "|Trump says Russia...|WEST PALM BEACH, ...|        politicsNews|December 29, 2017 |        1|\n",
      "|Factbox: Trump on...|The following sta...|        politicsNews|December 29, 2017 |        1|\n",
      "|Trump on Twitter ...|The following sta...|        politicsNews|December 29, 2017 |        1|\n",
      "|Alabama official ...|WASHINGTON (Reute...|        politicsNews|December 28, 2017 |        1|\n",
      "|Jones certified U...|(Reuters) - Alaba...|        politicsNews|December 28, 2017 |        1|\n",
      "|New York governor...|NEW YORK/WASHINGT...|        politicsNews|December 28, 2017 |        1|\n",
      "|Factbox: Trump on...|The following sta...|        politicsNews|December 28, 2017 |        1|\n",
      "|Trump on Twitter ...|\"The following st...| Associates Up 83...|      politicsNews|        1|\n",
      "|Man says he deliv...| (In Dec. 25 stor...|        politicsNews|December 25, 2017 |        1|\n",
      "|Virginia official...|(Reuters) - A lot...|        politicsNews|December 27, 2017 |        1|\n",
      "|U.S. lawmakers qu...|WASHINGTON (Reute...|        politicsNews|December 27, 2017 |        1|\n",
      "|Trump on Twitter ...|The following sta...|        politicsNews|December 26, 2017 |        1|\n",
      "|U.S. appeals cour...|(Reuters) - A U.S...|        politicsNews|December 26, 2017 |        1|\n",
      "|Treasury Secretar...|(Reuters) - A gif...|        politicsNews|December 24, 2017 |        1|\n",
      "+--------------------+--------------------+--------------------+------------------+---------+\n",
      "only showing top 20 rows\n",
      "\n"
     ]
    }
   ],
   "source": [
    "real = real.withColumn(\"Fake/Real\", lit(1))\n",
    "real.show()"
   ]
  },
  {
   "cell_type": "markdown",
   "id": "8ce7e283",
   "metadata": {},
   "source": [
    "#### <a name=\"combine\">1.3 Combine two dataframes</a>"
   ]
  },
  {
   "cell_type": "code",
   "execution_count": 14,
   "id": "dcf2236b",
   "metadata": {},
   "outputs": [
    {
     "name": "stdout",
     "output_type": "stream",
     "text": [
      "+-------+--------------------+--------------------+--------------------+--------------------+------------------+\n",
      "|summary|               title|                text|             subject|                date|         Fake/Real|\n",
      "+-------+--------------------+--------------------+--------------------+--------------------+------------------+\n",
      "|  count|               44906|               44898|               44898|               44898|             44906|\n",
      "|   mean|                NULL|                NULL|                50.0|   1245.142857142857|0.4769295862468267|\n",
      "| stddev|                NULL|                NULL|                 0.0|    986.147796321868|0.4994730337719483|\n",
      "|    min| #AfterTrumpImplo...|                    |  the witness sai...|              #Obama|                 0|\n",
      "|    max|“You’re Not Welco...|youngers these da...|” Trump told the ...|” she said.  “It’...|                 1|\n",
      "+-------+--------------------+--------------------+--------------------+--------------------+------------------+\n",
      "\n"
     ]
    }
   ],
   "source": [
    "data = fake.union(real) \n",
    "data.describe().show()"
   ]
  },
  {
   "cell_type": "markdown",
   "id": "9160ade9",
   "metadata": {},
   "source": [
    "## <a name=\"preprocess\">2. Pre-process data</a>"
   ]
  },
  {
   "cell_type": "markdown",
   "id": "8b32e3b7",
   "metadata": {},
   "source": [
    "### <a name=\"clean\">2.1 Cleaning dataset </a>"
   ]
  },
  {
   "cell_type": "markdown",
   "id": "18238e5e",
   "metadata": {},
   "source": [
    "#### <a name=\"leak1\">2.1.1 Dealing with leaking information 1 </a>"
   ]
  },
  {
   "cell_type": "markdown",
   "id": "98a78c93",
   "metadata": {},
   "source": [
    "Analysing the dataset, we found that nearly 99.2% of the true news contains the word \"(Reuters)\" and this can lead to missunderstanding in the model. Hence we will be doing basic natural language processing cleaning by formating the text."
   ]
  },
  {
   "cell_type": "code",
   "execution_count": 15,
   "id": "438724a6",
   "metadata": {},
   "outputs": [
    {
     "data": {
      "text/plain": [
       "99.17822290703647"
      ]
     },
     "execution_count": 15,
     "metadata": {},
     "output_type": "execute_result"
    }
   ],
   "source": [
    "real.filter(real.text.contains(\"(Reuters)\")).count() * 100 / real.count()"
   ]
  },
  {
   "cell_type": "code",
   "execution_count": 16,
   "id": "e7989e0e",
   "metadata": {},
   "outputs": [
    {
     "data": {
      "text/plain": [
       "0"
      ]
     },
     "execution_count": 16,
     "metadata": {},
     "output_type": "execute_result"
    }
   ],
   "source": [
    "data = data.withColumn('text', regexp_replace('text', '(Reuters)', ''))\n",
    "data.filter(data.text.contains(\"(Reuters)\")).count()"
   ]
  },
  {
   "cell_type": "markdown",
   "id": "7dff8356",
   "metadata": {},
   "source": [
    "##### <a name=\"clean1\">Cleaning text function </a>"
   ]
  },
  {
   "cell_type": "code",
   "execution_count": 17,
   "id": "0c50e14f",
   "metadata": {},
   "outputs": [],
   "source": [
    "def cleaning_text(data, col_name):\n",
    "    '''\n",
    "    This function helps to:\n",
    "        1. Remove all singular letters except 'a'.\n",
    "        2. Expand all words with contractions.('re -> are).\n",
    "        3. Remove all numbers.\n",
    "        4. Remove all extra spaces.\n",
    "        5. Lowcase text.\n",
    "        \n",
    "        Params:\n",
    "            data: pyspark.DataFrame\n",
    "            col_name: name columns to clean\n",
    "        \n",
    "        Return:\n",
    "            Data cleaned\n",
    "    '''\n",
    "    alphabet = list(string.ascii_lowercase)\n",
    "    alphabet = alphabet[1:]\n",
    "    \n",
    "    for letter in alphabet:\n",
    "        data = data.withColumn(col_name, regexp_replace(col_name, ' '+letter+' ', ' '))\n",
    "    \n",
    "    data = data.withColumn(col_name, regexp_replace(col_name, ' re', 'are'))\\\n",
    "               .withColumn(col_name, regexp_replace(col_name, ' ve', 'have'))\\\n",
    "               .withColumn(col_name, regexp_replace(col_name, ' ll', 'will'))\\\n",
    "               .withColumn(col_name, regexp_replace(col_name, '[^\\w\\s]+', ''))\n",
    "    \n",
    "    data = data.withColumn(col_name, regexp_replace(col_name, r'\\d+', ''))\\\n",
    "               .withColumn(col_name, regexp_replace(col_name, '\\s+', ' '))\n",
    "\n",
    "    data = data.withColumn(col_name, lower(data[col_name]))\n",
    "    \n",
    "    return data"
   ]
  },
  {
   "cell_type": "code",
   "execution_count": 18,
   "id": "4c1cb207",
   "metadata": {},
   "outputs": [
    {
     "name": "stdout",
     "output_type": "stream",
     "text": [
      "+--------------------+--------------------+-------+-----------------+---------+\n",
      "|               title|                text|subject|             date|Fake/Real|\n",
      "+--------------------+--------------------+-------+-----------------+---------+\n",
      "| donald trump sen...|donald trump just...|   News|December 31, 2017|        0|\n",
      "| drunk bragging t...|house intelligenc...|   News|December 31, 2017|        0|\n",
      "| sheriff david cl...|on friday it wasa...|   News|December 30, 2017|        0|\n",
      "| trump is so obse...|on christmas day ...|   News|December 29, 2017|        0|\n",
      "| pope francis jus...|pope francis used...|   News|December 25, 2017|        0|\n",
      "+--------------------+--------------------+-------+-----------------+---------+\n",
      "only showing top 5 rows\n",
      "\n"
     ]
    }
   ],
   "source": [
    "data = cleaning_text(data, 'text')\n",
    "data = cleaning_text(data, 'title')\n",
    "data.show(5)"
   ]
  },
  {
   "cell_type": "markdown",
   "id": "ed115095",
   "metadata": {},
   "source": [
    "#### <a name=\"leak2\">2.1.2 Dealing with leaking information 2</a>"
   ]
  },
  {
   "cell_type": "markdown",
   "id": "df9f94a4",
   "metadata": {},
   "source": [
    "Noticed that all news before 2016 were fake news and this is a dead giveaway, which can lead to very high accuracy. Also, some date values are filled with URLs instead hence cleaning will be done."
   ]
  },
  {
   "cell_type": "markdown",
   "id": "5ca6b126",
   "metadata": {},
   "source": [
    "Observing this information leak, we can easily train the model to detect fake/real just by passing in the dates.\n",
    "However, today's date will probably not tell us any information about whether a news story published today is real or fake.\n",
    "Hence we will not be using dates to perform regression as it can lead to artificially high accuracy."
   ]
  },
  {
   "cell_type": "code",
   "execution_count": 19,
   "id": "7f9fdabc",
   "metadata": {},
   "outputs": [
    {
     "data": {
      "text/plain": [
       "Text(0.5, 1.0, 'Articles published per day')"
      ]
     },
     "execution_count": 19,
     "metadata": {},
     "output_type": "execute_result"
    },
    {
     "data": {
      "image/png": "[encoded data removed]",
      "text/plain": [
       "<Figure size 640x480 with 1 Axes>"
      ]
     },
     "metadata": {},
     "output_type": "display_data"
    }
   ],
   "source": [
    "true_news_date = real.select('date', 'Fake/Real').toPandas()\n",
    "fake_news_date = fake.select('date', 'Fake/Real').toPandas()\n",
    "\n",
    "tnews = pd.to_datetime(true_news_date.date, errors = 'coerce').value_counts().sort_index()\n",
    "fnews = pd.to_datetime(fake_news_date.date, errors = 'coerce').value_counts().sort_index()\n",
    "\n",
    "plt.plot(tnews.index, tnews.values, label='True', alpha=0.4)\n",
    "plt.plot(fnews.index, fnews.values, 'red', label='Fake', alpha=0.4)\n",
    "\n",
    "plt.xticks(rotation = 45)\n",
    "\n",
    "plt.ylabel(\"Article Count\")\n",
    "plt.legend(loc = 'upper left')\n",
    "plt.title(\"Articles published per day\")"
   ]
  },
  {
   "cell_type": "markdown",
   "id": "e125a0a2",
   "metadata": {},
   "source": [
    "#### <a name=\"dup\">2.1.3 Remove duplicates</a>"
   ]
  },
  {
   "cell_type": "code",
   "execution_count": 20,
   "id": "461e43ce",
   "metadata": {},
   "outputs": [],
   "source": [
    "data = data.dropDuplicates()"
   ]
  },
  {
   "cell_type": "markdown",
   "id": "9d4434d8",
   "metadata": {},
   "source": [
    "#### <a name=\"NLP\">2.2 Feature Transformations</a>"
   ]
  },
  {
   "cell_type": "code",
   "execution_count": 21,
   "id": "345b4388",
   "metadata": {},
   "outputs": [],
   "source": [
    "data = data.drop('date')\n",
    "data = data.dropna()"
   ]
  },
  {
   "cell_type": "code",
   "execution_count": 22,
   "id": "49b6273e",
   "metadata": {},
   "outputs": [],
   "source": [
    "tokenizer1 = Tokenizer(inputCol=\"text\", outputCol=\"token_text\")\n",
    "tokenizer2 = Tokenizer(inputCol=\"title\", outputCol='token_title')\n",
    "\n",
    "stopremove1 = StopWordsRemover(inputCol='token_text',outputCol='stop_tokens_text')\n",
    "stopremove2 = StopWordsRemover(inputCol='token_title', outputCol='stop_tokens_title')\n",
    "\n",
    "count_vec1 = CountVectorizer(inputCol='stop_tokens_text',outputCol='c_vec_text')\n",
    "count_vec2 = CountVectorizer(inputCol='stop_tokens_title', outputCol='c_vec_title')\n",
    "\n",
    "idf1 = IDF(inputCol=\"c_vec_text\", outputCol=\"idf_text\")\n",
    "idf2 = IDF(inputCol=\"c_vec_title\", outputCol='idf_title')"
   ]
  },
  {
   "cell_type": "markdown",
   "id": "b2e069e4",
   "metadata": {},
   "source": [
    "## <a name=\"model\">3. Building model</a>"
   ]
  },
  {
   "cell_type": "markdown",
   "id": "2305a3f5",
   "metadata": {},
   "source": [
    "### <a name=\"naive\">3.1 Naive Bayes</a>"
   ]
  },
  {
   "cell_type": "markdown",
   "id": "e56f9213",
   "metadata": {},
   "source": [
    "#### <a name=\"title\">3.1.1 Naive Bayes with title column</a>"
   ]
  },
  {
   "cell_type": "code",
   "execution_count": 23,
   "id": "08379f16",
   "metadata": {},
   "outputs": [],
   "source": [
    "data_prep_pipe = Pipeline(stages = [tokenizer2, stopremove2, count_vec2, idf2])\n",
    "cleaner = data_prep_pipe.fit(data)\n",
    "clean_data = cleaner.transform(data)"
   ]
  },
  {
   "cell_type": "code",
   "execution_count": 24,
   "id": "9a837fb9",
   "metadata": {},
   "outputs": [
    {
     "name": "stdout",
     "output_type": "stream",
     "text": [
      "+--------------------+---------+\n",
      "|           idf_title|Fake/Real|\n",
      "+--------------------+---------+\n",
      "|(28163,[1,16,43,5...|        0|\n",
      "|(28163,[1,86,118,...|        0|\n",
      "|(28163,[1,6,11,13...|        0|\n",
      "|(28163,[0,1,5,18,...|        0|\n",
      "|(28163,[0,1,599,6...|        0|\n",
      "|(28163,[0,1,13,16...|        0|\n",
      "|(28163,[0,1,2,212...|        0|\n",
      "|(28163,[0,1,39,43...|        0|\n",
      "|(28163,[0,1,2,15,...|        0|\n",
      "|(28163,[0,1,55,14...|        0|\n",
      "+--------------------+---------+\n",
      "only showing top 10 rows\n",
      "\n"
     ]
    }
   ],
   "source": [
    "clean_data = clean_data.select(['idf_title','Fake/Real'])\n",
    "clean_data.show(10)"
   ]
  },
  {
   "cell_type": "code",
   "execution_count": 25,
   "id": "619aedb4",
   "metadata": {},
   "outputs": [],
   "source": [
    "train_data, test_data = clean_data.randomSplit([0.7, 0.3], seed=35)"
   ]
  },
  {
   "cell_type": "code",
   "execution_count": 26,
   "id": "fc31e41b",
   "metadata": {},
   "outputs": [
    {
     "name": "stdout",
     "output_type": "stream",
     "text": [
      "+---------+----------+-----+\n",
      "|Fake/Real|prediction|count|\n",
      "+---------+----------+-----+\n",
      "|        1|       0.0|  496|\n",
      "|        0|       0.0| 6713|\n",
      "|        1|       1.0| 5910|\n",
      "|        0|       1.0|  265|\n",
      "+---------+----------+-----+\n",
      "\n"
     ]
    }
   ],
   "source": [
    "nb = NaiveBayes(featuresCol = 'idf_title', labelCol = 'Fake/Real')\n",
    "\n",
    "predictor = nb.fit(train_data)\n",
    "test_results = predictor.transform(test_data)\n",
    "\n",
    "test_results.groupBy('Fake/Real', 'prediction').count().show()"
   ]
  },
  {
   "cell_type": "code",
   "execution_count": 27,
   "id": "0f605caa",
   "metadata": {},
   "outputs": [
    {
     "name": "stdout",
     "output_type": "stream",
     "text": [
      "Accuracy of model at predicting: 0.943081973068089\n"
     ]
    }
   ],
   "source": [
    "acc_eval = MulticlassClassificationEvaluator(labelCol=\"Fake/Real\")\n",
    "acc = acc_eval.evaluate(test_results)\n",
    "print(\"Accuracy of model at predicting: {}\".format(acc))"
   ]
  },
  {
   "cell_type": "code",
   "execution_count": 28,
   "id": "5fc46d3e",
   "metadata": {},
   "outputs": [
    {
     "data": {
      "text/plain": [
       "0.9311971147177139"
      ]
     },
     "execution_count": 28,
     "metadata": {},
     "output_type": "execute_result"
    }
   ],
   "source": [
    "precision = acc_eval.evaluate(test_results, {acc_eval.metricName: \"precisionByLabel\",\n",
    "                                             acc_eval.metricLabel: 0.0})\n",
    "precision"
   ]
  },
  {
   "cell_type": "code",
   "execution_count": 29,
   "id": "c13754a7",
   "metadata": {},
   "outputs": [
    {
     "data": {
      "text/plain": [
       "0.9620235024362281"
      ]
     },
     "execution_count": 29,
     "metadata": {},
     "output_type": "execute_result"
    }
   ],
   "source": [
    "recall = acc_eval.evaluate(test_results, {acc_eval.metricName: \"recallByLabel\",\n",
    "                                          acc_eval.metricLabel: 0.0})\n",
    "recall"
   ]
  },
  {
   "cell_type": "markdown",
   "id": "4b13ec34",
   "metadata": {},
   "source": [
    "<b>The performance of our model seems pretty good, with accuracy of 94% detect fake news, precision of 93% and recall of 96%. This mean if we just know the title of the news there are 94% chances model knows that is a fake or real news </b>\n",
    "\n",
    "<b> That give us the hope that with knowing all the text the acc will increase.</b>"
   ]
  },
  {
   "cell_type": "markdown",
   "id": "023df941",
   "metadata": {},
   "source": [
    "#### <a name=\"title\">3.1.2 Naive Bayes with text column</a>"
   ]
  },
  {
   "cell_type": "code",
   "execution_count": 30,
   "id": "d59fed4e",
   "metadata": {},
   "outputs": [],
   "source": [
    "data_prep_pipe_2 = Pipeline(stages = [tokenizer1, stopremove1, count_vec1, idf1])\n",
    "cleaner_2 = data_prep_pipe_2.fit(data)\n",
    "clean_data_2 = cleaner_2.transform(data)"
   ]
  },
  {
   "cell_type": "code",
   "execution_count": 31,
   "id": "fabdb5ba",
   "metadata": {},
   "outputs": [
    {
     "name": "stdout",
     "output_type": "stream",
     "text": [
      "+--------------------+---------+\n",
      "|            idf_text|Fake/Real|\n",
      "+--------------------+---------+\n",
      "|(262144,[1,3,4,11...|        0|\n",
      "|(262144,[0,3,4,18...|        0|\n",
      "|(262144,[0,1,3,4,...|        0|\n",
      "+--------------------+---------+\n",
      "only showing top 3 rows\n",
      "\n"
     ]
    }
   ],
   "source": [
    "clean_data_2 = clean_data_2.select(['idf_text','Fake/Real'])\n",
    "clean_data_2.show(3)"
   ]
  },
  {
   "cell_type": "code",
   "execution_count": 32,
   "id": "f15e8be1",
   "metadata": {},
   "outputs": [],
   "source": [
    "train_data_2, test_data_2 = clean_data_2.randomSplit([0.7, 0.3], seed=35)"
   ]
  },
  {
   "cell_type": "code",
   "execution_count": 33,
   "id": "b8f7db52",
   "metadata": {},
   "outputs": [
    {
     "name": "stdout",
     "output_type": "stream",
     "text": [
      "+---------+----------+-----+\n",
      "|Fake/Real|prediction|count|\n",
      "+---------+----------+-----+\n",
      "|        1|       0.0|  206|\n",
      "|        0|       0.0| 6861|\n",
      "|        1|       1.0| 6060|\n",
      "|        0|       1.0|  257|\n",
      "+---------+----------+-----+\n",
      "\n"
     ]
    }
   ],
   "source": [
    "nb_2 = NaiveBayes(featuresCol = 'idf_text', labelCol = 'Fake/Real')\n",
    "\n",
    "predictor_2 = nb_2.fit(train_data_2)\n",
    "test_results_2 = predictor_2.transform(test_data_2)\n",
    "\n",
    "test_results_2.groupBy('Fake/Real', 'prediction').count().show()"
   ]
  },
  {
   "cell_type": "code",
   "execution_count": 34,
   "id": "9023fa92",
   "metadata": {},
   "outputs": [
    {
     "name": "stdout",
     "output_type": "stream",
     "text": [
      "Accuracy of model at predicting: 0.9654143728989646\n"
     ]
    }
   ],
   "source": [
    "acc_2 = acc_eval.evaluate(test_results_2)\n",
    "print(\"Accuracy of model at predicting: {}\".format(acc_2))"
   ]
  },
  {
   "cell_type": "code",
   "execution_count": 35,
   "id": "13aaaa8b",
   "metadata": {},
   "outputs": [
    {
     "data": {
      "text/plain": [
       "0.9708504315834159"
      ]
     },
     "execution_count": 35,
     "metadata": {},
     "output_type": "execute_result"
    }
   ],
   "source": [
    "precision_2 = acc_eval.evaluate(test_results_2, {acc_eval.metricName: \"precisionByLabel\",\n",
    "                                                acc_eval.metricLabel: 0.0})\n",
    "precision_2"
   ]
  },
  {
   "cell_type": "code",
   "execution_count": 36,
   "id": "ac3dd828",
   "metadata": {},
   "outputs": [
    {
     "data": {
      "text/plain": [
       "0.9638943523461646"
      ]
     },
     "execution_count": 36,
     "metadata": {},
     "output_type": "execute_result"
    }
   ],
   "source": [
    "recall_2 = acc_eval.evaluate(test_results_2, {acc_eval.metricName: \"recallByLabel\",\n",
    "                                              acc_eval.metricLabel: 0.0})\n",
    "recall_2"
   ]
  },
  {
   "cell_type": "markdown",
   "id": "662b57be",
   "metadata": {},
   "source": [
    "As we predicted when know all the text the model have a better accuracy than just know the title (96% > 94%) the precision and recall seems good too. Now let check the random forest model for the text column."
   ]
  },
  {
   "cell_type": "markdown",
   "id": "a6e12037",
   "metadata": {},
   "source": [
    "### <a name=\"tree\">3.2 Random Forest</a>"
   ]
  },
  {
   "cell_type": "code",
   "execution_count": 37,
   "id": "9b975d0c",
   "metadata": {},
   "outputs": [],
   "source": [
    "rf = RandomForestClassifier(labelCol=\"Fake/Real\", featuresCol=\"idf_title\", maxDepth = 3)"
   ]
  },
  {
   "cell_type": "code",
   "execution_count": 38,
   "id": "6345fe98",
   "metadata": {},
   "outputs": [
    {
     "name": "stdout",
     "output_type": "stream",
     "text": [
      "+---------+----------+-----+\n",
      "|Fake/Real|prediction|count|\n",
      "+---------+----------+-----+\n",
      "|        1|       0.0| 5114|\n",
      "|        0|       0.0| 6896|\n",
      "|        1|       1.0| 1292|\n",
      "|        0|       1.0|   82|\n",
      "+---------+----------+-----+\n",
      "\n"
     ]
    }
   ],
   "source": [
    "predictor_3 = rf.fit(train_data)\n",
    "test_results_3 = predictor_3.transform(test_data)\n",
    "test_results_3.groupBy('Fake/Real', 'prediction').count().show()"
   ]
  },
  {
   "cell_type": "code",
   "execution_count": 39,
   "id": "4148692a",
   "metadata": {},
   "outputs": [
    {
     "name": "stdout",
     "output_type": "stream",
     "text": [
      "Accuracy of model at predicting: 0.5376675849697449\n"
     ]
    }
   ],
   "source": [
    "acc_3 = acc_eval.evaluate(test_results_3)\n",
    "print(\"Accuracy of model at predicting: {}\".format(acc_3))"
   ]
  },
  {
   "cell_type": "markdown",
   "id": "8a074f72",
   "metadata": {},
   "source": [
    "<b>The acc of random forest is 53% however we can evaluate some hyperParameter like maxDepth or numTrees. With all respect i will choose the naive bayes model for this data.</b>"
   ]
  }
 ],
 "metadata": {
  "kernelspec": {
   "display_name": "Python 3 (ipykernel)",
   "language": "python",
   "name": "python3"
  },
  "language_info": {
   "codemirror_mode": {
    "name": "ipython",
    "version": 3
   },
   "file_extension": ".py",
   "mimetype": "text/x-python",
   "name": "python",
   "nbconvert_exporter": "python",
   "pygments_lexer": "ipython3",
   "version": "3.11.5"
  }
 },
 "nbformat": 4,
 "nbformat_minor": 5
}
