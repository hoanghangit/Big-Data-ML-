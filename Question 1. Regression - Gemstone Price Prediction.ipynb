{
 "cells": [
  {
   "cell_type": "code",
   "execution_count": 1,
   "id": "f68eaf4f",
   "metadata": {},
   "outputs": [],
   "source": [
    "import findspark\n",
    "findspark.init()"
   ]
  },
  {
   "cell_type": "code",
   "execution_count": 2,
   "id": "b108a7e9",
   "metadata": {},
   "outputs": [],
   "source": [
    "import pyspark\n",
    "from pyspark.sql import SparkSession\n",
    "from pyspark.sql.functions import *\n",
    "import seaborn as sns\n",
    "import pandas as pd\n",
    "import matplotlib.pyplot as plt\n",
    "from pyspark.ml import Pipeline\n",
    "from pyspark.ml.feature import StringIndexer, VectorAssembler, OneHotEncoder\n",
    "from pyspark.ml.regression import LinearRegression, DecisionTreeRegressor\n",
    "from pyspark.ml.evaluation import RegressionEvaluator\n",
    "from pyspark.ml.regression import LinearRegressionModel, DecisionTreeRegressionModel\n",
    "from pyspark.sql import Row\n",
    "from pyspark.ml.linalg import Vectors"
   ]
  },
  {
   "cell_type": "code",
   "execution_count": 3,
   "id": "13ded005",
   "metadata": {},
   "outputs": [],
   "source": [
    "spark = SparkSession.builder.appName('Gemstone').getOrCreate()"
   ]
  },
  {
   "cell_type": "markdown",
   "id": "c1754051",
   "metadata": {},
   "source": [
    "# <font color='Mediumblue'>Table Contents</font> </br>\n",
    "\n",
    "<details>\n",
    "    <summary>Click for details</summary>\n",
    "\n",
    "\n",
    "1. [Overview about data](#overview) <br/> <br />\n",
    "\n",
    "2. [Pre-process data](#pre-process) <br /> <br />\n",
    "\n",
    "    2.1. [Handle Null and NaN values](#NullNaN)\n",
    " \n",
    "     > *[fillNaN func](#func1) \n",
    "           \n",
    "    2.2. [Handle Special values](#zeros)\n",
    "    \n",
    "    2.3. [Handle outlier with Robust Scaling](#outliers)\n",
    "    \n",
    "     > *[Robust scaling func](#func2)\n",
    "            \n",
    "    2.4. [Final data](#data)\n",
    "<br>\n",
    "\n",
    "3. [Building model](#model)\n",
    "\n",
    "    3.1. [Split data](#split)\n",
    "    \n",
    "    3.2. [Linear regression](#linear)\n",
    "    \n",
    "    3.3. [Decision Tree regressor](#tree)\n",
    "\n",
    "<br> \n",
    "\n",
    "4. [Prediction with new data](#predict)\n",
    "\n",
    "    4.1 [New data](#new)\n",
    "    \n",
    "    4.2 [Process new data](#modeled)\n",
    "    \n",
    "    4.3 [Prediction and result](#result)\n",
    "    \n",
    "    > *[Result](#table)\n",
    "    \n",
    "</details>"
   ]
  },
  {
   "cell_type": "markdown",
   "id": "05bcebd5",
   "metadata": {},
   "source": [
    "## <a name=\"overview\">Overview about data</a>"
   ]
  },
  {
   "cell_type": "code",
   "execution_count": 4,
   "id": "549b2d3c",
   "metadata": {},
   "outputs": [],
   "source": [
    "data = spark.read.csv(\"Gemstone/cubic_zirconia.csv\", inferSchema = True, header = True)"
   ]
  },
  {
   "cell_type": "code",
   "execution_count": 5,
   "id": "e367e85d",
   "metadata": {},
   "outputs": [
    {
     "name": "stdout",
     "output_type": "stream",
     "text": [
      "root\n",
      " |-- _c0: integer (nullable = true)\n",
      " |-- carat: double (nullable = true)\n",
      " |-- cut: string (nullable = true)\n",
      " |-- color: string (nullable = true)\n",
      " |-- clarity: string (nullable = true)\n",
      " |-- depth: double (nullable = true)\n",
      " |-- table: double (nullable = true)\n",
      " |-- x: double (nullable = true)\n",
      " |-- y: double (nullable = true)\n",
      " |-- z: double (nullable = true)\n",
      " |-- price: integer (nullable = true)\n",
      "\n"
     ]
    }
   ],
   "source": [
    "data.printSchema()"
   ]
  },
  {
   "cell_type": "code",
   "execution_count": 6,
   "id": "33e95878",
   "metadata": {},
   "outputs": [
    {
     "data": {
      "text/plain": [
       "26967"
      ]
     },
     "execution_count": 6,
     "metadata": {},
     "output_type": "execute_result"
    }
   ],
   "source": [
    "data.count()"
   ]
  },
  {
   "cell_type": "code",
   "execution_count": 7,
   "id": "0ebb3ed7",
   "metadata": {},
   "outputs": [
    {
     "name": "stdout",
     "output_type": "stream",
     "text": [
      "root\n",
      " |-- carat: double (nullable = true)\n",
      " |-- cut: string (nullable = true)\n",
      " |-- color: string (nullable = true)\n",
      " |-- clarity: string (nullable = true)\n",
      " |-- depth: double (nullable = true)\n",
      " |-- table: double (nullable = true)\n",
      " |-- x: double (nullable = true)\n",
      " |-- y: double (nullable = true)\n",
      " |-- z: double (nullable = true)\n",
      " |-- price: integer (nullable = true)\n",
      "\n"
     ]
    }
   ],
   "source": [
    "# drop the _c0\n",
    "data = data.drop(\"_c0\")\n",
    "data.printSchema()"
   ]
  },
  {
   "cell_type": "code",
   "execution_count": 8,
   "id": "79393dc4",
   "metadata": {},
   "outputs": [
    {
     "name": "stdout",
     "output_type": "stream",
     "text": [
      "+-----+---------+-----+-------+-----+-----+----+----+----+-----+\n",
      "|carat|      cut|color|clarity|depth|table|   x|   y|   z|price|\n",
      "+-----+---------+-----+-------+-----+-----+----+----+----+-----+\n",
      "|  0.3|    Ideal|    E|    SI1| 62.1| 58.0|4.27|4.29|2.66|  499|\n",
      "| 0.33|  Premium|    G|     IF| 60.8| 58.0|4.42|4.46| 2.7|  984|\n",
      "|  0.9|Very Good|    E|   VVS2| 62.2| 60.0|6.04|6.12|3.78| 6289|\n",
      "+-----+---------+-----+-------+-----+-----+----+----+----+-----+\n",
      "only showing top 3 rows\n",
      "\n"
     ]
    }
   ],
   "source": [
    "data.show(3)"
   ]
  },
  {
   "cell_type": "markdown",
   "id": "089e7443",
   "metadata": {},
   "source": [
    "## <a name=\"pre-process\">Pre-process data</a>"
   ]
  },
  {
   "cell_type": "markdown",
   "id": "b821be3a",
   "metadata": {},
   "source": [
    "### <a name=\"NullNaN\">Handle Null and NaN values</a>"
   ]
  },
  {
   "cell_type": "code",
   "execution_count": 9,
   "id": "9b1791c8",
   "metadata": {},
   "outputs": [
    {
     "name": "stdout",
     "output_type": "stream",
     "text": [
      "+-----+---+-----+-------+-----+-----+---+---+---+-----+\n",
      "|carat|cut|color|clarity|depth|table|  x|  y|  z|price|\n",
      "+-----+---+-----+-------+-----+-----+---+---+---+-----+\n",
      "|    0|  0|    0|      0|  697|    0|  0|  0|  0|    0|\n",
      "+-----+---+-----+-------+-----+-----+---+---+---+-----+\n",
      "\n"
     ]
    }
   ],
   "source": [
    "data.select([count(when(col(c).isNull(), c)).alias(c) for c in data.columns]).show()"
   ]
  },
  {
   "cell_type": "markdown",
   "id": "174799ee",
   "metadata": {},
   "source": [
    "<li><b>Has null value in depth columns</li></b>"
   ]
  },
  {
   "cell_type": "code",
   "execution_count": 10,
   "id": "e640bda3",
   "metadata": {},
   "outputs": [
    {
     "name": "stdout",
     "output_type": "stream",
     "text": [
      "+-----+---+-----+-------+-----+-----+---+---+---+-----+\n",
      "|carat|cut|color|clarity|depth|table|  x|  y|  z|price|\n",
      "+-----+---+-----+-------+-----+-----+---+---+---+-----+\n",
      "|    0|  0|    0|      0|    0|    0|  0|  0|  0|    0|\n",
      "+-----+---+-----+-------+-----+-----+---+---+---+-----+\n",
      "\n"
     ]
    }
   ],
   "source": [
    "data.select([count(when(isnan(col(c)), c)).alias(c) for c in data.columns]).show()"
   ]
  },
  {
   "cell_type": "markdown",
   "id": "e836de85",
   "metadata": {},
   "source": [
    "<li><b>Has no NaN values</li></b>"
   ]
  },
  {
   "cell_type": "markdown",
   "id": "0dddc772",
   "metadata": {},
   "source": [
    "#### Take a look at the null values"
   ]
  },
  {
   "cell_type": "code",
   "execution_count": 11,
   "id": "5f5dfe9a",
   "metadata": {},
   "outputs": [
    {
     "name": "stdout",
     "output_type": "stream",
     "text": [
      "+-----+---------+-----+-------+-----+-----+----+----+----+-----+\n",
      "|carat|      cut|color|clarity|depth|table|   x|   y|   z|price|\n",
      "+-----+---------+-----+-------+-----+-----+----+----+----+-----+\n",
      "| 0.34|    Ideal|    D|    SI1| NULL| 57.0| 4.5|4.44|2.74|  803|\n",
      "| 0.74|    Ideal|    E|    SI2| NULL| 59.0|5.92|5.97|3.52| 2501|\n",
      "|  1.0|  Premium|    F|    SI1| NULL| 59.0| 6.4|6.36| 4.0| 5292|\n",
      "| 1.11|  Premium|    E|    SI2| NULL| 61.0|6.66|6.61|4.09| 4177|\n",
      "|  1.0|Very Good|    F|    VS2| NULL| 55.0|6.39|6.44|3.99| 6340|\n",
      "| 0.43|    Ideal|    E|    SI1| NULL| 56.0|4.82|4.79|3.01|  975|\n",
      "| 0.41|    Ideal|    I|     IF| NULL| 57.0|4.78|4.81|2.93|  953|\n",
      "| 0.71|  Premium|    F|    VS1| NULL| 58.0|5.71|5.67|3.57| 2879|\n",
      "| 0.51|Very Good|    E|    VS1| NULL| 54.7|5.12|5.15|31.8| 1970|\n",
      "| 0.29|Very Good|    I|    VS2| NULL| 55.0|4.25|4.27|2.66|  384|\n",
      "|  0.9|    Ideal|    G|    SI2| NULL| 56.0|6.14|6.19|3.85| 3500|\n",
      "| 0.71|Very Good|    H|    SI1| NULL| 57.0|5.65|5.61|3.55| 2207|\n",
      "|  1.1|Very Good|    F|    VS2| NULL| 59.0|6.56| 6.6|4.08| 6708|\n",
      "| 0.38|Very Good|    F|    SI2| NULL| 61.0|4.61|4.67|2.83|  600|\n",
      "| 0.39|  Premium|    D|    VS2| NULL| 59.0|4.76|4.74|2.86| 1024|\n",
      "| 0.33|    Ideal|    E|    VS2| NULL| 55.0|4.48|4.46|2.74|  928|\n",
      "| 1.11|     Good|    E|    SI2| NULL| 60.0|6.76|6.83|3.96| 4532|\n",
      "| 0.94|  Premium|    H|    SI2| NULL| 57.0|6.29|6.21|3.87| 3335|\n",
      "| 0.54|    Ideal|    E|    SI2| NULL| 57.0|5.25|5.28|3.19| 1246|\n",
      "| 0.71|    Ideal|    E|    SI2| NULL| 57.0|5.74|5.78|3.54| 2470|\n",
      "+-----+---------+-----+-------+-----+-----+----+----+----+-----+\n",
      "only showing top 20 rows\n",
      "\n"
     ]
    }
   ],
   "source": [
    "data.filter(data.depth.isNull()).show()"
   ]
  },
  {
   "cell_type": "markdown",
   "id": "5a6b13aa",
   "metadata": {},
   "source": [
    "#### <a name=\"func1\">Impute function</a>"
   ]
  },
  {
   "cell_type": "code",
   "execution_count": 12,
   "id": "13409157",
   "metadata": {},
   "outputs": [],
   "source": [
    "def fillna_mean(data, include=set()): \n",
    "    means = data.agg(*(\n",
    "        mean(x).alias(x) for x in data.columns if x in include\n",
    "    ))\n",
    "    return data.fillna(means.first().asDict())"
   ]
  },
  {
   "cell_type": "code",
   "execution_count": 13,
   "id": "b23f127c",
   "metadata": {},
   "outputs": [],
   "source": [
    "data = fillna_mean(data, ['depth'])"
   ]
  },
  {
   "cell_type": "code",
   "execution_count": 14,
   "id": "79933e8f",
   "metadata": {},
   "outputs": [
    {
     "name": "stdout",
     "output_type": "stream",
     "text": [
      "+-----+---+-----+-------+-----+-----+---+---+---+-----+\n",
      "|carat|cut|color|clarity|depth|table|  x|  y|  z|price|\n",
      "+-----+---+-----+-------+-----+-----+---+---+---+-----+\n",
      "+-----+---+-----+-------+-----+-----+---+---+---+-----+\n",
      "\n"
     ]
    }
   ],
   "source": [
    "data.filter(data.depth.isNull()).show()"
   ]
  },
  {
   "cell_type": "markdown",
   "id": "030fbbac",
   "metadata": {},
   "source": [
    "### <a name=\"NullNaN\">Handle Special values</a>"
   ]
  },
  {
   "cell_type": "markdown",
   "id": "2b7d0919",
   "metadata": {},
   "source": [
    "<i> x, y, z is the information about the length, width, height of the gems, so if the gems exists those values must bigger than 0 -> check the zero values </i>"
   ]
  },
  {
   "cell_type": "code",
   "execution_count": 15,
   "id": "58fb0666",
   "metadata": {},
   "outputs": [
    {
     "name": "stdout",
     "output_type": "stream",
     "text": [
      "+-----+-------+-----+-------+-----+-----+----+----+---+-----+\n",
      "|carat|    cut|color|clarity|depth|table|   x|   y|  z|price|\n",
      "+-----+-------+-----+-------+-----+-----+----+----+---+-----+\n",
      "| 0.71|   Good|    F|    SI2| 64.1| 60.0| 0.0| 0.0|0.0| 2130|\n",
      "| 2.02|Premium|    H|    VS2| 62.7| 53.0|8.02|7.95|0.0|18207|\n",
      "| 0.71|   Good|    F|    SI2| 64.1| 60.0| 0.0| 0.0|0.0| 2130|\n",
      "|  2.2|Premium|    H|    SI1| 61.2| 59.0|8.42|8.37|0.0|17265|\n",
      "| 2.18|Premium|    H|    SI2| 59.4| 61.0|8.49|8.45|0.0|12631|\n",
      "|  1.1|Premium|    G|    SI2| 63.0| 59.0| 6.5|6.47|0.0| 3696|\n",
      "| 1.14|   Fair|    G|    VS1| 57.5| 67.0| 0.0| 0.0|0.0| 6381|\n",
      "| 1.01|Premium|    H|     I1| 58.1| 59.0|6.66| 6.6|0.0| 3167|\n",
      "| 1.12|Premium|    G|     I1| 60.4| 59.0|6.71|6.67|0.0| 2383|\n",
      "+-----+-------+-----+-------+-----+-----+----+----+---+-----+\n",
      "\n"
     ]
    }
   ],
   "source": [
    "data.filter(((data.x == 0) | (data.y == 0) | (data.z == 0))).show()"
   ]
  },
  {
   "cell_type": "markdown",
   "id": "c4266f4d",
   "metadata": {},
   "source": [
    "#### Impute the zeros value (0 -> Null -> mean)"
   ]
  },
  {
   "cell_type": "code",
   "execution_count": 16,
   "id": "a4ba30d7",
   "metadata": {},
   "outputs": [],
   "source": [
    "data = data.replace(0, None, ['x', 'y', 'z'])"
   ]
  },
  {
   "cell_type": "code",
   "execution_count": 17,
   "id": "8201f36c",
   "metadata": {},
   "outputs": [
    {
     "name": "stdout",
     "output_type": "stream",
     "text": [
      "+-----+-------+-----+-------+-----+-----+----+----+----+-----+\n",
      "|carat|    cut|color|clarity|depth|table|   x|   y|   z|price|\n",
      "+-----+-------+-----+-------+-----+-----+----+----+----+-----+\n",
      "| 0.71|   Good|    F|    SI2| 64.1| 60.0|NULL|NULL|NULL| 2130|\n",
      "| 2.02|Premium|    H|    VS2| 62.7| 53.0|8.02|7.95|NULL|18207|\n",
      "| 0.71|   Good|    F|    SI2| 64.1| 60.0|NULL|NULL|NULL| 2130|\n",
      "|  2.2|Premium|    H|    SI1| 61.2| 59.0|8.42|8.37|NULL|17265|\n",
      "| 2.18|Premium|    H|    SI2| 59.4| 61.0|8.49|8.45|NULL|12631|\n",
      "|  1.1|Premium|    G|    SI2| 63.0| 59.0| 6.5|6.47|NULL| 3696|\n",
      "| 1.14|   Fair|    G|    VS1| 57.5| 67.0|NULL|NULL|NULL| 6381|\n",
      "| 1.01|Premium|    H|     I1| 58.1| 59.0|6.66| 6.6|NULL| 3167|\n",
      "| 1.12|Premium|    G|     I1| 60.4| 59.0|6.71|6.67|NULL| 2383|\n",
      "+-----+-------+-----+-------+-----+-----+----+----+----+-----+\n",
      "\n"
     ]
    }
   ],
   "source": [
    "data.filter(((data.x.isNull()) | (data.y.isNull()) | (data.z.isNull()))).show()"
   ]
  },
  {
   "cell_type": "code",
   "execution_count": 18,
   "id": "8837606f",
   "metadata": {},
   "outputs": [],
   "source": [
    "data = fillna_mean(data, ['x', 'y', 'z'])"
   ]
  },
  {
   "cell_type": "code",
   "execution_count": 19,
   "id": "2bfecb20",
   "metadata": {},
   "outputs": [
    {
     "name": "stdout",
     "output_type": "stream",
     "text": [
      "+-----+---+-----+-------+-----+-----+---+---+---+-----+\n",
      "|carat|cut|color|clarity|depth|table|  x|  y|  z|price|\n",
      "+-----+---+-----+-------+-----+-----+---+---+---+-----+\n",
      "+-----+---+-----+-------+-----+-----+---+---+---+-----+\n",
      "\n"
     ]
    }
   ],
   "source": [
    "# Check again\n",
    "data.filter(((data.x.isNull()) | (data.y.isNull()) | (data.z.isNull()))).show()"
   ]
  },
  {
   "cell_type": "markdown",
   "id": "e9af2dd8",
   "metadata": {},
   "source": [
    "### Check and drop duplicate"
   ]
  },
  {
   "cell_type": "code",
   "execution_count": 20,
   "id": "0eb8c54c",
   "metadata": {},
   "outputs": [],
   "source": [
    "data = data.dropDuplicates()"
   ]
  },
  {
   "cell_type": "markdown",
   "id": "08575fd2",
   "metadata": {},
   "source": [
    "### <a name=\"outliers\">Handle outlier with Robust Scaling</a>"
   ]
  },
  {
   "cell_type": "code",
   "execution_count": 21,
   "id": "fce7a0d7",
   "metadata": {},
   "outputs": [],
   "source": [
    "temp = data.select(['carat','depth','table','x','y','z']).toPandas()"
   ]
  },
  {
   "cell_type": "code",
   "execution_count": 22,
   "id": "a14b81ec",
   "metadata": {},
   "outputs": [
    {
     "data": {
      "image/png": "[encoded data removed]",
      "text/plain": [
       "<Figure size 1500x700 with 1 Axes>"
      ]
     },
     "metadata": {},
     "output_type": "display_data"
    }
   ],
   "source": [
    "plt.figure(figsize=(15, 7))\n",
    "sns.boxplot(data = temp, orient='h')\n",
    "plt.show()"
   ]
  },
  {
   "cell_type": "markdown",
   "id": "8332d8dd",
   "metadata": {},
   "source": [
    "<b>Too much outliers -> scale data</b>"
   ]
  },
  {
   "cell_type": "markdown",
   "id": "03f9819f",
   "metadata": {},
   "source": [
    "#### <a name=\"func2\">Robust Scaling function</a>"
   ]
  },
  {
   "cell_type": "code",
   "execution_count": 23,
   "id": "9a2c6cf4",
   "metadata": {},
   "outputs": [],
   "source": [
    "def iqr_outlier_treatment(dataframe, columns, factor=1.5):\n",
    "    \"\"\"\n",
    "    Detects and treats outliers using IQR for multiple variables in a PySpark DataFrame.\n",
    "\n",
    "    :param dataframe: The input PySpark DataFrame\n",
    "    :param columns: A list of columns to apply IQR outlier treatment\n",
    "    :param factor: The IQR factor to use for detecting outliers (default is 1.5)\n",
    "    :return: The processed DataFrame with outliers treated\n",
    "    \"\"\"\n",
    "    for column in columns:\n",
    "        # Calculate Q1, Q3, and IQR\n",
    "        quantiles = dataframe.approxQuantile(column, [0.25, 0.75], 0.01)\n",
    "        q1, q3 = quantiles[0], quantiles[1]\n",
    "        iqr = q3 - q1\n",
    "\n",
    "        # Define the upper and lower bounds for outliers\n",
    "        lower_bound = q1 - factor * iqr\n",
    "        upper_bound = q3 + factor * iqr\n",
    "        \n",
    "        print(\"Lower bound of \" + column, lower_bound)\n",
    "        print(\"Upper bound of \" + column, upper_bound)\n",
    "        print(\"\\n\")\n",
    "\n",
    "        # Filter outliers and update the DataFrame\n",
    "        dataframe = dataframe.withColumn(column, \n",
    "                                         when(col(column) < lower_bound, lower_bound)\n",
    "                                        .when(col(column) > upper_bound, upper_bound)\n",
    "                                        .otherwise(col(column)))\n",
    "\n",
    "    return dataframe"
   ]
  },
  {
   "cell_type": "code",
   "execution_count": 24,
   "id": "2ecebc3b",
   "metadata": {},
   "outputs": [
    {
     "name": "stdout",
     "output_type": "stream",
     "text": [
      "Lower bound of carat -0.5599999999999999\n",
      "Upper bound of carat 2.0\n",
      "\n",
      "\n",
      "Lower bound of depth 59.0\n",
      "Upper bound of depth 64.6\n",
      "\n",
      "\n",
      "Lower bound of table 51.5\n",
      "Upper bound of table 63.5\n",
      "\n",
      "\n",
      "Lower bound of x 1.955\n",
      "Upper bound of x 9.275\n",
      "\n",
      "\n",
      "Lower bound of y 1.9950000000000006\n",
      "Upper bound of y 9.235\n",
      "\n",
      "\n",
      "Lower bound of z 1.2049999999999994\n",
      "Upper bound of z 5.7250000000000005\n",
      "\n",
      "\n"
     ]
    }
   ],
   "source": [
    "scale_list = ['carat','depth','table','x','y','z']\n",
    "scaled_data = iqr_outlier_treatment(data, scale_list, factor = 1.5)"
   ]
  },
  {
   "cell_type": "code",
   "execution_count": 25,
   "id": "1c14135e",
   "metadata": {},
   "outputs": [
    {
     "data": {
      "image/png": "[encoded data removed]",
      "text/plain": [
       "<Figure size 1500x700 with 1 Axes>"
      ]
     },
     "metadata": {},
     "output_type": "display_data"
    }
   ],
   "source": [
    "temp2 = scaled_data.select(['carat','depth','table','x','y','z']).toPandas()\n",
    "plt.figure(figsize=(15, 7))\n",
    "sns.boxplot(data = temp2, orient = 'h')\n",
    "plt.show()"
   ]
  },
  {
   "cell_type": "markdown",
   "id": "7ded57e0",
   "metadata": {},
   "source": [
    "<li><b> Check again the number of data </b></li>"
   ]
  },
  {
   "cell_type": "code",
   "execution_count": 26,
   "id": "d4f4617d",
   "metadata": {},
   "outputs": [
    {
     "name": "stdout",
     "output_type": "stream",
     "text": [
      "Before the robust:  26933  elements\n",
      "After the robust:  26933  elements\n"
     ]
    }
   ],
   "source": [
    "print(\"Before the robust: \", data.count(), \" elements\")\n",
    "print(\"After the robust: \", scaled_data.count(), \" elements\")"
   ]
  },
  {
   "cell_type": "code",
   "execution_count": 27,
   "id": "262c441f",
   "metadata": {},
   "outputs": [
    {
     "name": "stdout",
     "output_type": "stream",
     "text": [
      "root\n",
      " |-- carat: double (nullable = true)\n",
      " |-- cut: string (nullable = true)\n",
      " |-- color: string (nullable = true)\n",
      " |-- clarity: string (nullable = true)\n",
      " |-- depth: double (nullable = false)\n",
      " |-- table: double (nullable = true)\n",
      " |-- x: double (nullable = false)\n",
      " |-- y: double (nullable = false)\n",
      " |-- z: double (nullable = false)\n",
      " |-- price: integer (nullable = true)\n",
      "\n"
     ]
    }
   ],
   "source": [
    "scaled_data.printSchema()"
   ]
  },
  {
   "cell_type": "markdown",
   "id": "cf7d23f4",
   "metadata": {},
   "source": [
    "### Reduce category values"
   ]
  },
  {
   "cell_type": "markdown",
   "id": "974df143",
   "metadata": {},
   "source": [
    "<ul>Reduce the color column:\n",
    "    <li> Change the J -> best </li>\n",
    "    <li> Change the I, H -> vgood </li>\n",
    "    <li> Change the G, F -> good </li>\n",
    "    <li> Change the E -> bad </li>\n",
    "    <li> Change the D -> worst </li>\n",
    "</ul>"
   ]
  },
  {
   "cell_type": "code",
   "execution_count": 28,
   "id": "87128eab",
   "metadata": {},
   "outputs": [],
   "source": [
    "scaled_data = scaled_data.withColumn('color',\n",
    "                                     when(col('color') == \"J\", \"best\")\n",
    "                                     .when(((col('color') == \"I\") | (col('color') == \"H\")), \"vgood\")\n",
    "                                     .when(((col('color') == \"G\") | (col('color') == \"F\")), \"good\")\n",
    "                                     .when(col('color') == \"E\", \"bad\")\n",
    "                                     .otherwise(\"worst\"))"
   ]
  },
  {
   "cell_type": "markdown",
   "id": "4871f0cc",
   "metadata": {},
   "source": [
    "<ul> Reduce the Clarity columns:\n",
    "    <li> Change the I1, I2, I3 -> best </li>\n",
    "    <li> Change the SI1, SI2 -> vgood </li>\n",
    "    <li> Change the VS1, VS2 -> good </li>\n",
    "    <li> Change the VVS1, VVS2 -> bad </li>\n",
    "    <li> Change the IF -> worst </li>\n",
    "</ul>"
   ]
  },
  {
   "cell_type": "code",
   "execution_count": 29,
   "id": "51b31734",
   "metadata": {},
   "outputs": [],
   "source": [
    "scaled_data = scaled_data.withColumn('clarity',\n",
    "                                     when(col('clarity') == \"IF\", \"worst\")\n",
    "                                     .when(((col('clarity') == \"SI1\") | (col('clarity') == \"SI2\")), \"vgood\")\n",
    "                                     .when(((col('clarity') == \"VS1\") | (col('clarity') == \"VS2\")), \"good\")\n",
    "                                     .when(((col('clarity') == \"VVS1\") | (col('clarity') == \"VVS2\")), \"bad\")\n",
    "                                     .otherwise(\"best\"))"
   ]
  },
  {
   "cell_type": "code",
   "execution_count": 30,
   "id": "26a9d314",
   "metadata": {},
   "outputs": [
    {
     "name": "stdout",
     "output_type": "stream",
     "text": [
      "+-----+-------+\n",
      "|color|clarity|\n",
      "+-----+-------+\n",
      "|  bad|  vgood|\n",
      "| good|   best|\n",
      "|vgood|  worst|\n",
      "+-----+-------+\n",
      "only showing top 3 rows\n",
      "\n"
     ]
    }
   ],
   "source": [
    "scaled_data.select(['color', 'clarity']).distinct().show(3)"
   ]
  },
  {
   "cell_type": "markdown",
   "id": "94695568",
   "metadata": {},
   "source": [
    "### Convert string data"
   ]
  },
  {
   "cell_type": "code",
   "execution_count": 31,
   "id": "0fc8e4f4",
   "metadata": {},
   "outputs": [],
   "source": [
    "indexer1 = StringIndexer(inputCol = 'cut', outputCol = 'cut_index')\n",
    "indexer2 = StringIndexer(inputCol = 'color', outputCol = 'color_index')\n",
    "indexer3 = StringIndexer(inputCol = 'clarity', outputCol = 'clarity_index')\n",
    "\n",
    "encoder = OneHotEncoder(inputCols = ['clarity_index'],\n",
    "                        outputCols = ['clarity_en'])\n",
    "\n",
    "pipeline = Pipeline(stages = [indexer1, indexer2, indexer3, encoder])\n",
    "indexer_data = pipeline.fit(scaled_data).transform(scaled_data)"
   ]
  },
  {
   "cell_type": "code",
   "execution_count": 32,
   "id": "7b0aeaa3",
   "metadata": {},
   "outputs": [
    {
     "name": "stdout",
     "output_type": "stream",
     "text": [
      "+-----+---------+-----+-------+-----+-----+----+----+----+-----+---------+-----------+-------------+-------------+\n",
      "|carat|      cut|color|clarity|depth|table|   x|   y|   z|price|cut_index|color_index|clarity_index|   clarity_en|\n",
      "+-----+---------+-----+-------+-----+-----+----+----+----+-----+---------+-----------+-------------+-------------+\n",
      "| 0.52|    Ideal|  bad|   good| 61.5| 56.0|5.18| 5.2|3.19| 1576|      0.0|        2.0|          1.0|(4,[1],[1.0])|\n",
      "| 1.01|Very Good| good|    bad| 61.8| 59.0|6.47|6.41|3.98| 8373|      2.0|        0.0|          2.0|(4,[2],[1.0])|\n",
      "| 0.35|    Ideal| good|    bad| 62.1| 56.0|4.52|4.56|2.82|  745|      0.0|        0.0|          2.0|(4,[2],[1.0])|\n",
      "+-----+---------+-----+-------+-----+-----+----+----+----+-----+---------+-----------+-------------+-------------+\n",
      "only showing top 3 rows\n",
      "\n"
     ]
    }
   ],
   "source": [
    "indexer_data.show(3)"
   ]
  },
  {
   "cell_type": "markdown",
   "id": "5d8c96f1",
   "metadata": {},
   "source": [
    "### <a name=\"data\">Final data</a>"
   ]
  },
  {
   "cell_type": "code",
   "execution_count": 33,
   "id": "46a9f4c8",
   "metadata": {},
   "outputs": [
    {
     "name": "stdout",
     "output_type": "stream",
     "text": [
      "+-----+-----+-----+----+----+----+---------+-----------+-------------+-----+\n",
      "|carat|depth|table|   x|   y|   z|cut_index|color_index|   clarity_en|price|\n",
      "+-----+-----+-----+----+----+----+---------+-----------+-------------+-----+\n",
      "| 0.52| 61.5| 56.0|5.18| 5.2|3.19|      0.0|        2.0|(4,[1],[1.0])| 1576|\n",
      "| 1.01| 61.8| 59.0|6.47|6.41|3.98|      2.0|        0.0|(4,[2],[1.0])| 8373|\n",
      "| 0.35| 62.1| 56.0|4.52|4.56|2.82|      0.0|        0.0|(4,[2],[1.0])|  745|\n",
      "| 0.32| 62.3| 58.0|4.41|4.36|2.73|      1.0|        0.0|(4,[1],[1.0])|  720|\n",
      "| 0.52| 62.5| 59.0|5.14|5.16|3.22|      2.0|        4.0|(4,[0],[1.0])| 1019|\n",
      "+-----+-----+-----+----+----+----+---------+-----------+-------------+-----+\n",
      "only showing top 5 rows\n",
      "\n"
     ]
    }
   ],
   "source": [
    "final_data = indexer_data.select(['carat', 'depth', 'table',\n",
    "                                 'x', 'y', 'z',\n",
    "                                 'cut_index', 'color_index', 'clarity_en', \n",
    "                                 'price'])\n",
    "final_data.show(5)"
   ]
  },
  {
   "cell_type": "code",
   "execution_count": 34,
   "id": "b38df8c9",
   "metadata": {},
   "outputs": [],
   "source": [
    "assembler = VectorAssembler(inputCols = ['carat', 'depth', 'table',\n",
    "                                         'x', 'y', 'z',\n",
    "                                         'cut_index', 'color_index', 'clarity_en'], \n",
    "                            outputCol = 'features')\n",
    "final_data = assembler.transform(final_data)"
   ]
  },
  {
   "cell_type": "markdown",
   "id": "4e8997f5",
   "metadata": {},
   "source": [
    "## <a name=\"Model\">Building model</a>"
   ]
  },
  {
   "cell_type": "markdown",
   "id": "c4fd411b",
   "metadata": {},
   "source": [
    "### <a name=\"split\">Split data</a>"
   ]
  },
  {
   "cell_type": "code",
   "execution_count": 35,
   "id": "9794f967",
   "metadata": {},
   "outputs": [],
   "source": [
    "data = final_data.select(['features', 'price'])\n",
    "train_data, test_data = data.randomSplit([0.7, 0.3], seed = 42)"
   ]
  },
  {
   "cell_type": "code",
   "execution_count": 36,
   "id": "fa9ed589",
   "metadata": {},
   "outputs": [
    {
     "name": "stdout",
     "output_type": "stream",
     "text": [
      "+-------+------------------+\n",
      "|summary|             price|\n",
      "+-------+------------------+\n",
      "|  count|             18908|\n",
      "|   mean| 3911.875555320499|\n",
      "| stddev|4026.2567132999984|\n",
      "|    min|               326|\n",
      "|    max|             18804|\n",
      "+-------+------------------+\n",
      "\n"
     ]
    }
   ],
   "source": [
    "train_data.describe().show()"
   ]
  },
  {
   "cell_type": "code",
   "execution_count": 37,
   "id": "3529e3dd",
   "metadata": {},
   "outputs": [
    {
     "name": "stdout",
     "output_type": "stream",
     "text": [
      "+-------+-----------------+\n",
      "|summary|            price|\n",
      "+-------+-----------------+\n",
      "|  count|             8025|\n",
      "|   mean|3997.962367601246|\n",
      "| stddev|4013.411572028205|\n",
      "|    min|              326|\n",
      "|    max|            18818|\n",
      "+-------+-----------------+\n",
      "\n"
     ]
    }
   ],
   "source": [
    "test_data.describe().show()"
   ]
  },
  {
   "cell_type": "markdown",
   "id": "9104d2b8",
   "metadata": {},
   "source": [
    "### <a name=\"linear\">Linear regression</a>"
   ]
  },
  {
   "cell_type": "code",
   "execution_count": 38,
   "id": "a3ef7acf",
   "metadata": {},
   "outputs": [],
   "source": [
    "lr = LinearRegression(featuresCol = \"features\",\n",
    "                      labelCol = \"price\",\n",
    "                      predictionCol = \"Predict price\")\n",
    "lrModel = lr.fit(train_data)"
   ]
  },
  {
   "cell_type": "code",
   "execution_count": 39,
   "id": "b26e7096",
   "metadata": {},
   "outputs": [
    {
     "name": "stdout",
     "output_type": "stream",
     "text": [
      "Coefficients: [13531.944291293277,11.802211830781278,-34.81984413690858,-2283.073240849306,1729.7831969645397,-2378.8835907435578,-123.825605593274,-86.97586996335065,2888.126907995116,3825.2557913782916,4364.786914842242,4554.492460580685]\n",
      "Intercept: 2803.5689897096568\n"
     ]
    }
   ],
   "source": [
    "print(\"Coefficients: {}\\nIntercept: {}\".format(lrModel.coefficients, lrModel.intercept))"
   ]
  },
  {
   "cell_type": "code",
   "execution_count": 40,
   "id": "41c02d33",
   "metadata": {},
   "outputs": [
    {
     "name": "stdout",
     "output_type": "stream",
     "text": [
      "+------------------+\n",
      "|         residuals|\n",
      "+------------------+\n",
      "|2466.6020516502044|\n",
      "|1085.4020643777399|\n",
      "|1110.6256491254621|\n",
      "+------------------+\n",
      "only showing top 3 rows\n",
      "\n"
     ]
    }
   ],
   "source": [
    "test_result = lrModel.evaluate(test_data)\n",
    "test_result.residuals.show(3)"
   ]
  },
  {
   "cell_type": "code",
   "execution_count": 41,
   "id": "6fb82014",
   "metadata": {},
   "outputs": [
    {
     "name": "stdout",
     "output_type": "stream",
     "text": [
      "RMSE: 1254.5298514114738\n",
      "r2: 0.9022788152810179\n"
     ]
    }
   ],
   "source": [
    "print(\"RMSE: {}\\nr2: {}\".format(test_result.rootMeanSquaredError, test_result.r2))"
   ]
  },
  {
   "cell_type": "markdown",
   "id": "e7415c26",
   "metadata": {},
   "source": [
    "<b>The r2 is 0.90 -> maybe this is a good model for this data</b>"
   ]
  },
  {
   "cell_type": "code",
   "execution_count": 42,
   "id": "188fc6f8",
   "metadata": {},
   "outputs": [
    {
     "name": "stdout",
     "output_type": "stream",
     "text": [
      "+-----+------------------+\n",
      "|price|     Predict price|\n",
      "+-----+------------------+\n",
      "| 1928|-538.6020516502044|\n",
      "| 3377|  2291.59793562226|\n",
      "| 3382| 2271.374350874538|\n",
      "| 3444|  2505.72510822481|\n",
      "| 3544| 2716.576260218361|\n",
      "| 3609|2596.1905670839446|\n",
      "| 3168|2735.6699663990753|\n",
      "| 3824| 3389.724816231645|\n",
      "| 4643| 5434.246538353715|\n",
      "| 6175|  6856.77113454585|\n",
      "+-----+------------------+\n",
      "only showing top 10 rows\n",
      "\n"
     ]
    }
   ],
   "source": [
    "test_model = lrModel.transform(test_data)\n",
    "test_model.select(\"price\", \"Predict price\").show(10)"
   ]
  },
  {
   "cell_type": "markdown",
   "id": "d253dd58",
   "metadata": {},
   "source": [
    "<i><b>The prediction seems ok however the price 1928 is predict in negative number. Hope that the next model is better. </i></b>"
   ]
  },
  {
   "cell_type": "markdown",
   "id": "c88eda1d",
   "metadata": {},
   "source": [
    "### <a name=\"tree\">Decision Tree regressor</a>"
   ]
  },
  {
   "cell_type": "code",
   "execution_count": 43,
   "id": "3c117482",
   "metadata": {},
   "outputs": [],
   "source": [
    "dct = DecisionTreeRegressor(featuresCol = \"features\", \n",
    "                            labelCol = 'price', \n",
    "                            predictionCol = 'Predict price',\n",
    "                            seed = 35, maxDepth = 30)\n",
    "dctModel = dct.fit(train_data)"
   ]
  },
  {
   "cell_type": "code",
   "execution_count": 44,
   "id": "ddb2eb34",
   "metadata": {},
   "outputs": [],
   "source": [
    "dtevaluator = RegressionEvaluator(predictionCol = \"Predict price\", \n",
    "                                  labelCol = \"price\", \n",
    "                                  metricName = \"r2\")"
   ]
  },
  {
   "cell_type": "code",
   "execution_count": 45,
   "id": "7ce3870f",
   "metadata": {},
   "outputs": [
    {
     "name": "stdout",
     "output_type": "stream",
     "text": [
      "+-----+-------------+\n",
      "|price|Predict price|\n",
      "+-----+-------------+\n",
      "| 1928|       1273.0|\n",
      "| 3377|       3444.0|\n",
      "| 3382|       3444.0|\n",
      "| 3444|       3507.0|\n",
      "| 3544|       3547.0|\n",
      "| 3609|       3547.0|\n",
      "| 3168|       3607.0|\n",
      "| 3824|       3607.0|\n",
      "| 4643|       6028.0|\n",
      "| 6175|       5808.0|\n",
      "+-----+-------------+\n",
      "only showing top 10 rows\n",
      "\n"
     ]
    }
   ],
   "source": [
    "dct_test_model = dctModel.transform(test_data)\n",
    "dct_test_model.select(\"price\", \"Predict price\").show(10)"
   ]
  },
  {
   "cell_type": "code",
   "execution_count": 46,
   "id": "0e587f26",
   "metadata": {},
   "outputs": [
    {
     "data": {
      "text/plain": [
       "0.9354699926475724"
      ]
     },
     "execution_count": 46,
     "metadata": {},
     "output_type": "execute_result"
    }
   ],
   "source": [
    "dtevaluator.evaluate(dct_test_model)"
   ]
  },
  {
   "cell_type": "markdown",
   "id": "45f2f3b2",
   "metadata": {},
   "source": [
    "<b> After trying some max depth i see that the max r2 is about 0.935 and it is a little bit bigger than the regular Linear Regression and all the predict value are positive -> which are more logical than the linear regression.</b>\n",
    "\n",
    "<b> With that i choose the DCTree to predict with the new data </b>"
   ]
  },
  {
   "cell_type": "markdown",
   "id": "5fbdf556",
   "metadata": {},
   "source": [
    "## <a name=\"predict\">Prediction with new data</a>"
   ]
  },
  {
   "cell_type": "markdown",
   "id": "38d98cb6",
   "metadata": {},
   "source": [
    "###  <a name=\"new\">New data</a>\n",
    "| carat | cut  | color | clarity | depth | table | x   | y   | z   |\n",
    "|-------|------|-------|---------|-------|-------|-----|-----|-----|\n",
    "| 1.45  | Fair | G     | VS2     | 65.2  | 54    | 7.2 | 7.1 | 4.6 |"
   ]
  },
  {
   "cell_type": "markdown",
   "id": "e61c0be7",
   "metadata": {},
   "source": [
    "### <a name=\"modeled\">Process new data</a>\n",
    "| carat | cut | color | clarity       | depth | table | x   | y   | z   |\n",
    "|-------|-----|-------|---------------|-------|-------|-----|-----|-----|\n",
    "| 1.45  | 4   | 2     | (4,[1],[1.0]) | 64.6  | 54    | 7.2 | 7.1 | 4.6 |"
   ]
  },
  {
   "cell_type": "code",
   "execution_count": 47,
   "id": "f3bcef35",
   "metadata": {},
   "outputs": [
    {
     "name": "stdout",
     "output_type": "stream",
     "text": [
      "+-----+---+-----+-------------+-----+-----+---+---+---+\n",
      "|carat|cut|color|      clarity|depth|table|  x|  y|  z|\n",
      "+-----+---+-----+-------------+-----+-----+---+---+---+\n",
      "| 1.45|  4|    2|(4,[1],[1.0])| 64.6|   54|7.2|7.1|4.6|\n",
      "+-----+---+-----+-------------+-----+-----+---+---+---+\n",
      "\n"
     ]
    }
   ],
   "source": [
    "new_data = spark.createDataFrame([\n",
    "    Row(carat = 1.45, cut = 4, color = 2, clarity = Vectors.sparse(4, [1], [1.0]),\n",
    "        depth = 64.6, table = 54, x = 7.2, y = 7.1, z = 4.6)])\n",
    "new_data.show()"
   ]
  },
  {
   "cell_type": "markdown",
   "id": "81b59a4a",
   "metadata": {},
   "source": [
    "### <a name=\"result\">Prediction and result</a>"
   ]
  },
  {
   "cell_type": "code",
   "execution_count": 48,
   "id": "ba57389c",
   "metadata": {},
   "outputs": [
    {
     "name": "stdout",
     "output_type": "stream",
     "text": [
      "+-----+---+-----+-------------+-----+-----+---+---+---+--------------------+\n",
      "|carat|cut|color|      clarity|depth|table|  x|  y|  z|            features|\n",
      "+-----+---+-----+-------------+-----+-----+---+---+---+--------------------+\n",
      "| 1.45|  4|    2|(4,[1],[1.0])| 64.6|   54|7.2|7.1|4.6|[1.45,64.6,54.0,7...|\n",
      "+-----+---+-----+-------------+-----+-----+---+---+---+--------------------+\n",
      "\n"
     ]
    }
   ],
   "source": [
    "assembler2 = VectorAssembler(inputCols = ['carat', 'depth', 'table',\n",
    "                                         'x', 'y', 'z',\n",
    "                                         'cut', 'color', 'clarity'], \n",
    "                            outputCol = 'features')\n",
    "feature = assembler2.transform(new_data)\n",
    "feature.show()"
   ]
  },
  {
   "cell_type": "code",
   "execution_count": 49,
   "id": "f94bd4c3",
   "metadata": {},
   "outputs": [
    {
     "name": "stdout",
     "output_type": "stream",
     "text": [
      "+--------------------+-------------+\n",
      "|            features|Predict price|\n",
      "+--------------------+-------------+\n",
      "|[1.45,64.6,54.0,7...|      12606.0|\n",
      "+--------------------+-------------+\n",
      "\n"
     ]
    }
   ],
   "source": [
    "new_data = feature.select('features')\n",
    "dctModel.transform(new_data).show()"
   ]
  },
  {
   "cell_type": "markdown",
   "id": "f3279fea",
   "metadata": {},
   "source": [
    "####  <a name=\"table\">Result</a>\n",
    "| carat | cut  | color | clarity | depth | table | x   | y   | z   | price |\n",
    "|-------|------|-------|---------|-------|-------|-----|-----|-----|-------|\n",
    "| 1.45  | Fair | G     | VS2     | 65.2  | 54    | 7.2 | 7.1 | 4.6 | 12606 |"
   ]
  }
 ],
 "metadata": {
  "kernelspec": {
   "display_name": "Python 3 (ipykernel)",
   "language": "python",
   "name": "python3"
  },
  "language_info": {
   "codemirror_mode": {
    "name": "ipython",
    "version": 3
   },
   "file_extension": ".py",
   "mimetype": "text/x-python",
   "name": "python",
   "nbconvert_exporter": "python",
   "pygments_lexer": "ipython3",
   "version": "3.11.5"
  }
 },
 "nbformat": 4,
 "nbformat_minor": 5
}
