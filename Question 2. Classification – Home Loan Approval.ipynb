{
 "cells": [
  {
   "cell_type": "code",
   "execution_count": 1,
   "id": "bce307e9",
   "metadata": {},
   "outputs": [],
   "source": [
    "import findspark\n",
    "findspark.init()"
   ]
  },
  {
   "cell_type": "code",
   "execution_count": 2,
   "id": "4800ab27",
   "metadata": {},
   "outputs": [],
   "source": [
    "import pyspark\n",
    "from pyspark.sql import SparkSession\n",
    "from pyspark.sql.functions import *\n",
    "import seaborn as sns\n",
    "import pandas as pd\n",
    "import matplotlib.pyplot as plt\n",
    "from pyspark.ml import Pipeline\n",
    "from pyspark.ml.feature import StringIndexer, VectorAssembler, OneHotEncoder\n",
    "from pyspark.ml.classification import LogisticRegression, DecisionTreeClassifier\n",
    "from pyspark.ml.evaluation import BinaryClassificationEvaluator, MulticlassClassificationEvaluator\n",
    "from pyspark.sql import Row\n",
    "from pyspark.ml.linalg import Vectors\n",
    "from pyspark.sql.types import IntegerType\n",
    "import warnings\n",
    "warnings.filterwarnings(\"ignore\")"
   ]
  },
  {
   "cell_type": "code",
   "execution_count": 3,
   "id": "7fe40873",
   "metadata": {},
   "outputs": [],
   "source": [
    "spark = SparkSession.builder.appName('HomeLoan').getOrCreate()"
   ]
  },
  {
   "cell_type": "markdown",
   "id": "21732004",
   "metadata": {},
   "source": [
    "# <font color='Mediumblue'>Table Contents</font> </br>\n",
    "\n",
    "<details>\n",
    "    <summary>Click for details</summary>\n",
    "\n",
    "\n",
    "1. [Overview about data](#overview) <br/> <br />\n",
    "\n",
    "2. [Pre-process data](#preprocess) <br /> <br />\n",
    "\n",
    "    2.1. [Handle Null and NaN values](#NullNaN)\n",
    " \n",
    "     > *[Fill Null values with mode values function](#func1) \n",
    "    \n",
    "    2.2. [Handle outlier](#outliers)\n",
    "            \n",
    "    2.3. [Prepare data for model](#data)\n",
    "<br>\n",
    "\n",
    "3. [Building model](#model)\n",
    "\n",
    "    3.1. [Split data](#split)\n",
    "    \n",
    "    3.2. [Logistic regression](#logistic)\n",
    "    \n",
    "    3.3. [Decision Tree Classifier](#tree)\n",
    "\n",
    "<br> \n",
    "\n",
    "4. [Prediction with new data](#predict)\n",
    "\n",
    "    4.1 [New data](#new)\n",
    "    \n",
    "    4.2 [Process new data](#modeled)\n",
    "    \n",
    "    4.3 [Prediction and result](#result)\n",
    "    \n",
    "</details>"
   ]
  },
  {
   "cell_type": "markdown",
   "id": "7128b364",
   "metadata": {},
   "source": [
    "## <a name=\"overview\">Overview about data</a>"
   ]
  },
  {
   "cell_type": "code",
   "execution_count": 4,
   "id": "a91cf27b",
   "metadata": {},
   "outputs": [],
   "source": [
    "data = spark.read.csv(\"HomeLoan/loan_sanction_train.csv\", inferSchema = True, header = True)"
   ]
  },
  {
   "cell_type": "code",
   "execution_count": 5,
   "id": "bf7f3103",
   "metadata": {},
   "outputs": [
    {
     "name": "stdout",
     "output_type": "stream",
     "text": [
      "root\n",
      " |-- Loan_ID: string (nullable = true)\n",
      " |-- Gender: string (nullable = true)\n",
      " |-- Married: string (nullable = true)\n",
      " |-- Dependents: string (nullable = true)\n",
      " |-- Education: string (nullable = true)\n",
      " |-- Self_Employed: string (nullable = true)\n",
      " |-- ApplicantIncome: integer (nullable = true)\n",
      " |-- CoapplicantIncome: double (nullable = true)\n",
      " |-- LoanAmount: integer (nullable = true)\n",
      " |-- Loan_Amount_Term: integer (nullable = true)\n",
      " |-- Credit_History: integer (nullable = true)\n",
      " |-- Property_Area: string (nullable = true)\n",
      " |-- Loan_Status: string (nullable = true)\n",
      "\n"
     ]
    }
   ],
   "source": [
    "data.printSchema()"
   ]
  },
  {
   "cell_type": "markdown",
   "id": "92117734",
   "metadata": {},
   "source": [
    "| No | Variable          | Type                   | Description                                     |\n",
    "|----|-------------------|------------------------|-------------------------------------------------|\n",
    "| 1  | Loan_ID           | Numerical - Discrete   | Unique Loan ID                                  |\n",
    "| 2  | Gender            | Categorical - Nominal  | Male / Female                                   |\n",
    "| 3  | Married           | Categorical - Nominal  | Applicant married (Y/N)                         |\n",
    "| 4  | Dependents        | Categorical - Ordinal  | Number of dependents (0, 1, 2, 3+)              |\n",
    "| 5  | Education         | Categorical - Nominal  | Applicant Education (Graduate / Under Graduate) |\n",
    "| 6  | Self_Employed     | Categorical - Nominal  | Self employed (Y/N)                             |\n",
    "| 7  | ApplicantIncome   | Numerical - Continuous | Applicant income                                |\n",
    "| 8  | CoapplicantIncome | Numerical - Continuous | Coapplicant income                              |\n",
    "| 9  | LoanAmount        | Numerical - Continuous | Loan amount in thousands                        |\n",
    "| 10 | Loan_Amount_Term  | Numerical - Discrete   | Term of loan in months                          |\n",
    "| 11 | Credit_History    | Categorical - Nominal  | credit history meets guidelines (0, 1)          |\n",
    "| 12 | Property_Area     | Categorical - Ordinal  | Urban / Semi Urban / Rural                      |\n",
    "| 13 | Loan_Status       | Categorical - Nominal  | Loan approved (Y/N)                             |"
   ]
  },
  {
   "cell_type": "code",
   "execution_count": 6,
   "id": "6e2d2abc",
   "metadata": {},
   "outputs": [
    {
     "data": {
      "text/plain": [
       "614"
      ]
     },
     "execution_count": 6,
     "metadata": {},
     "output_type": "execute_result"
    }
   ],
   "source": [
    "data.count()"
   ]
  },
  {
   "cell_type": "code",
   "execution_count": 7,
   "id": "82ebb305",
   "metadata": {},
   "outputs": [
    {
     "name": "stdout",
     "output_type": "stream",
     "text": [
      "+--------+------+-------+----------+------------+-------------+---------------+-----------------+----------+----------------+--------------+-------------+-----------+\n",
      "| Loan_ID|Gender|Married|Dependents|   Education|Self_Employed|ApplicantIncome|CoapplicantIncome|LoanAmount|Loan_Amount_Term|Credit_History|Property_Area|Loan_Status|\n",
      "+--------+------+-------+----------+------------+-------------+---------------+-----------------+----------+----------------+--------------+-------------+-----------+\n",
      "|LP001002|  Male|     No|         0|    Graduate|           No|           5849|              0.0|      NULL|             360|             1|        Urban|          Y|\n",
      "|LP001003|  Male|    Yes|         1|    Graduate|           No|           4583|           1508.0|       128|             360|             1|        Rural|          N|\n",
      "|LP001005|  Male|    Yes|         0|    Graduate|          Yes|           3000|              0.0|        66|             360|             1|        Urban|          Y|\n",
      "|LP001006|  Male|    Yes|         0|Not Graduate|           No|           2583|           2358.0|       120|             360|             1|        Urban|          Y|\n",
      "|LP001008|  Male|     No|         0|    Graduate|           No|           6000|              0.0|       141|             360|             1|        Urban|          Y|\n",
      "+--------+------+-------+----------+------------+-------------+---------------+-----------------+----------+----------------+--------------+-------------+-----------+\n",
      "only showing top 5 rows\n",
      "\n"
     ]
    }
   ],
   "source": [
    "data.show(5)"
   ]
  },
  {
   "cell_type": "code",
   "execution_count": 8,
   "id": "d9a44468",
   "metadata": {},
   "outputs": [
    {
     "name": "stdout",
     "output_type": "stream",
     "text": [
      "+-----------+-----+\n",
      "|Loan_Status|count|\n",
      "+-----------+-----+\n",
      "|          Y|  422|\n",
      "|          N|  192|\n",
      "+-----------+-----+\n",
      "\n"
     ]
    }
   ],
   "source": [
    "data.groupBy(\"Loan_Status\").count().show()"
   ]
  },
  {
   "cell_type": "markdown",
   "id": "8f7a14e2",
   "metadata": {},
   "source": [
    "<b>Note:</b> The loan of 422 (around 69%) people out of 614 was approved. There is no imbalanced classes issue in this dataset, thus accuracy as an evaluation metric should be appropriate."
   ]
  },
  {
   "cell_type": "code",
   "execution_count": 9,
   "id": "47cbf179",
   "metadata": {},
   "outputs": [],
   "source": [
    "plot_data = data.toPandas()"
   ]
  },
  {
   "cell_type": "code",
   "execution_count": 10,
   "id": "8a81fd53",
   "metadata": {},
   "outputs": [
    {
     "data": {
      "image/png": "[encoded data removed]",
      "text/plain": [
       "<Figure size 2000x1000 with 5 Axes>"
      ]
     },
     "metadata": {},
     "output_type": "display_data"
    }
   ],
   "source": [
    "plt.figure(figsize = (20, 10), layout= 'constrained')\n",
    "\n",
    "plt.subplot(231)\n",
    "plot_data['Gender'].value_counts(normalize = True).plot.bar()\n",
    "\n",
    "plt.subplot(232)\n",
    "plot_data['Married'].value_counts(normalize = True).plot.bar()\n",
    "\n",
    "plt.subplot(233)\n",
    "plot_data['Self_Employed'].value_counts(normalize = True).plot.bar()\n",
    "\n",
    "plt.subplot(234)\n",
    "plot_data['Credit_History'].value_counts(normalize = True).plot.bar()\n",
    "\n",
    "plt.subplot(235)\n",
    "plot_data['Education'].value_counts(normalize = True).plot.bar()\n",
    "\n",
    "plt.show()"
   ]
  },
  {
   "cell_type": "markdown",
   "id": "f044dca4",
   "metadata": {},
   "source": [
    "<ul>  \n",
    "    <li>  80% applicants in the dataset are male.\n",
    "    <li>Around 65% of the applicants in the dataset are married.</li>\n",
    "    <li>Around 15% applicants in the dataset are self employed.</li>\n",
    "    <li>Around 85% applicants have credit history (repaid their debts).</li>\n",
    "    <li>Around 80% of the applicants are Graduate.</li>\n",
    "</ul>"
   ]
  },
  {
   "cell_type": "code",
   "execution_count": 11,
   "id": "432cd314",
   "metadata": {},
   "outputs": [
    {
     "data": {
      "image/png": "[encoded data removed]",
      "text/plain": [
       "<Figure size 1200x400 with 2 Axes>"
      ]
     },
     "metadata": {},
     "output_type": "display_data"
    }
   ],
   "source": [
    "plt.figure(figsize = (12, 4), layout= 'constrained')\n",
    "\n",
    "plt.subplot(121)\n",
    "plot_data['Dependents'].value_counts(normalize=True).plot.bar()\n",
    "\n",
    "plt.subplot(122)\n",
    "plot_data['Property_Area'].value_counts(normalize=True).plot.bar()\n",
    "\n",
    "plt.show()"
   ]
  },
  {
   "cell_type": "markdown",
   "id": "b25a7490",
   "metadata": {},
   "source": [
    "<b>Note:</b> \n",
    "    <li>More than half of the applicants don’t have any dependents.</li>\n",
    "    <li>Most of the applicants are from Semiurban area.</li>"
   ]
  },
  {
   "cell_type": "code",
   "execution_count": 12,
   "id": "43c6e47b",
   "metadata": {},
   "outputs": [
    {
     "data": {
      "image/png": "[encoded data removed]",
      "text/plain": [
       "<Figure size 1600x500 with 2 Axes>"
      ]
     },
     "metadata": {},
     "output_type": "display_data"
    }
   ],
   "source": [
    "plt.subplot(121)\n",
    "sns.distplot(plot_data['CoapplicantIncome']);\n",
    "\n",
    "plt.subplot(122)\n",
    "plot_data['CoapplicantIncome'].plot.box(figsize=(16,5))\n",
    "\n",
    "plt.show()"
   ]
  },
  {
   "cell_type": "markdown",
   "id": "8b6e4b96",
   "metadata": {},
   "source": [
    "<b>Note:</b> Majority of coapplicant’s income ranges from 0 to 5000, a lot of outliers in the coapplicant income and it is not normally distributed."
   ]
  },
  {
   "cell_type": "code",
   "execution_count": 13,
   "id": "c2417412",
   "metadata": {},
   "outputs": [
    {
     "data": {
      "image/png": "[encoded data removed]",
      "text/plain": [
       "<Figure size 1600x500 with 2 Axes>"
      ]
     },
     "metadata": {},
     "output_type": "display_data"
    }
   ],
   "source": [
    "plt.subplot(121)\n",
    "plot_data = plot_data.dropna()\n",
    "sns.distplot(plot_data['LoanAmount']);\n",
    "\n",
    "plt.subplot(122)\n",
    "plot_data['LoanAmount'].plot.box(figsize=(16,5))\n",
    "\n",
    "plt.show()"
   ]
  },
  {
   "cell_type": "markdown",
   "id": "1c8cbf0d",
   "metadata": {},
   "source": [
    "<b>A fairly normal distribution (albeit still slightly right-skewed) for LoanAmount but there are lot of outliers in this variable. I will treat the outliers in later sections.</b>"
   ]
  },
  {
   "cell_type": "markdown",
   "id": "d7097c46",
   "metadata": {},
   "source": [
    "## <a name=\"preprocess\">Pre-process data</a>"
   ]
  },
  {
   "cell_type": "markdown",
   "id": "f631510a",
   "metadata": {},
   "source": [
    "### <a name=\"NullNaN\">Handle Null and NaN values</a>"
   ]
  },
  {
   "cell_type": "code",
   "execution_count": 14,
   "id": "d7de7315",
   "metadata": {},
   "outputs": [
    {
     "data": {
      "text/html": [
       "<div>\n",
       "<style scoped>\n",
       "    .dataframe tbody tr th:only-of-type {\n",
       "        vertical-align: middle;\n",
       "    }\n",
       "\n",
       "    .dataframe tbody tr th {\n",
       "        vertical-align: top;\n",
       "    }\n",
       "\n",
       "    .dataframe thead th {\n",
       "        text-align: right;\n",
       "    }\n",
       "</style>\n",
       "<table border=\"1\" class=\"dataframe\">\n",
       "  <thead>\n",
       "    <tr style=\"text-align: right;\">\n",
       "      <th></th>\n",
       "      <th>0</th>\n",
       "    </tr>\n",
       "  </thead>\n",
       "  <tbody>\n",
       "    <tr>\n",
       "      <th>Loan_ID</th>\n",
       "      <td>0</td>\n",
       "    </tr>\n",
       "    <tr>\n",
       "      <th>Gender</th>\n",
       "      <td>13</td>\n",
       "    </tr>\n",
       "    <tr>\n",
       "      <th>Married</th>\n",
       "      <td>3</td>\n",
       "    </tr>\n",
       "    <tr>\n",
       "      <th>Dependents</th>\n",
       "      <td>15</td>\n",
       "    </tr>\n",
       "    <tr>\n",
       "      <th>Education</th>\n",
       "      <td>0</td>\n",
       "    </tr>\n",
       "    <tr>\n",
       "      <th>Self_Employed</th>\n",
       "      <td>32</td>\n",
       "    </tr>\n",
       "    <tr>\n",
       "      <th>ApplicantIncome</th>\n",
       "      <td>0</td>\n",
       "    </tr>\n",
       "    <tr>\n",
       "      <th>CoapplicantIncome</th>\n",
       "      <td>0</td>\n",
       "    </tr>\n",
       "    <tr>\n",
       "      <th>LoanAmount</th>\n",
       "      <td>22</td>\n",
       "    </tr>\n",
       "    <tr>\n",
       "      <th>Loan_Amount_Term</th>\n",
       "      <td>14</td>\n",
       "    </tr>\n",
       "    <tr>\n",
       "      <th>Credit_History</th>\n",
       "      <td>50</td>\n",
       "    </tr>\n",
       "    <tr>\n",
       "      <th>Property_Area</th>\n",
       "      <td>0</td>\n",
       "    </tr>\n",
       "    <tr>\n",
       "      <th>Loan_Status</th>\n",
       "      <td>0</td>\n",
       "    </tr>\n",
       "  </tbody>\n",
       "</table>\n",
       "</div>"
      ],
      "text/plain": [
       "                    0\n",
       "Loan_ID             0\n",
       "Gender             13\n",
       "Married             3\n",
       "Dependents         15\n",
       "Education           0\n",
       "Self_Employed      32\n",
       "ApplicantIncome     0\n",
       "CoapplicantIncome   0\n",
       "LoanAmount         22\n",
       "Loan_Amount_Term   14\n",
       "Credit_History     50\n",
       "Property_Area       0\n",
       "Loan_Status         0"
      ]
     },
     "execution_count": 14,
     "metadata": {},
     "output_type": "execute_result"
    }
   ],
   "source": [
    "data.select([count(when(col(c).isNull(), c)).alias(c) for c in data.columns]).toPandas().T"
   ]
  },
  {
   "cell_type": "code",
   "execution_count": 15,
   "id": "829c5827",
   "metadata": {},
   "outputs": [
    {
     "data": {
      "text/html": [
       "<div>\n",
       "<style scoped>\n",
       "    .dataframe tbody tr th:only-of-type {\n",
       "        vertical-align: middle;\n",
       "    }\n",
       "\n",
       "    .dataframe tbody tr th {\n",
       "        vertical-align: top;\n",
       "    }\n",
       "\n",
       "    .dataframe thead th {\n",
       "        text-align: right;\n",
       "    }\n",
       "</style>\n",
       "<table border=\"1\" class=\"dataframe\">\n",
       "  <thead>\n",
       "    <tr style=\"text-align: right;\">\n",
       "      <th></th>\n",
       "      <th>0</th>\n",
       "    </tr>\n",
       "  </thead>\n",
       "  <tbody>\n",
       "    <tr>\n",
       "      <th>Loan_ID</th>\n",
       "      <td>0</td>\n",
       "    </tr>\n",
       "    <tr>\n",
       "      <th>Gender</th>\n",
       "      <td>0</td>\n",
       "    </tr>\n",
       "    <tr>\n",
       "      <th>Married</th>\n",
       "      <td>0</td>\n",
       "    </tr>\n",
       "    <tr>\n",
       "      <th>Dependents</th>\n",
       "      <td>0</td>\n",
       "    </tr>\n",
       "    <tr>\n",
       "      <th>Education</th>\n",
       "      <td>0</td>\n",
       "    </tr>\n",
       "    <tr>\n",
       "      <th>Self_Employed</th>\n",
       "      <td>0</td>\n",
       "    </tr>\n",
       "    <tr>\n",
       "      <th>ApplicantIncome</th>\n",
       "      <td>0</td>\n",
       "    </tr>\n",
       "    <tr>\n",
       "      <th>CoapplicantIncome</th>\n",
       "      <td>0</td>\n",
       "    </tr>\n",
       "    <tr>\n",
       "      <th>LoanAmount</th>\n",
       "      <td>0</td>\n",
       "    </tr>\n",
       "    <tr>\n",
       "      <th>Loan_Amount_Term</th>\n",
       "      <td>0</td>\n",
       "    </tr>\n",
       "    <tr>\n",
       "      <th>Credit_History</th>\n",
       "      <td>0</td>\n",
       "    </tr>\n",
       "    <tr>\n",
       "      <th>Property_Area</th>\n",
       "      <td>0</td>\n",
       "    </tr>\n",
       "    <tr>\n",
       "      <th>Loan_Status</th>\n",
       "      <td>0</td>\n",
       "    </tr>\n",
       "  </tbody>\n",
       "</table>\n",
       "</div>"
      ],
      "text/plain": [
       "                   0\n",
       "Loan_ID            0\n",
       "Gender             0\n",
       "Married            0\n",
       "Dependents         0\n",
       "Education          0\n",
       "Self_Employed      0\n",
       "ApplicantIncome    0\n",
       "CoapplicantIncome  0\n",
       "LoanAmount         0\n",
       "Loan_Amount_Term   0\n",
       "Credit_History     0\n",
       "Property_Area      0\n",
       "Loan_Status        0"
      ]
     },
     "execution_count": 15,
     "metadata": {},
     "output_type": "execute_result"
    }
   ],
   "source": [
    "data.select([count(when(isnan(col(c)), c)).alias(c) for c in data.columns]).toPandas().T"
   ]
  },
  {
   "cell_type": "markdown",
   "id": "8594675f",
   "metadata": {},
   "source": [
    "There are missing values in Gender, Married, Dependents, Self_Employed, LoanAmount, Loan_Amount_Term and Credit_History features. We will treat the missing values in all the features one by one.\n",
    "\n",
    "Use these methods to fill the missing values:\n",
    "\n",
    "<ul>\n",
    "<li>For numerical variables: imputation using mean or median</li>\n",
    "<li>For categorical variables: imputation using mode</li>\n",
    "</ul>\n",
    "\n",
    "There are <b>very less</b> missing values in Gender, Married, Dependents, Credit_History and Self_Employed features so I will fill them using the mode of the features."
   ]
  },
  {
   "cell_type": "markdown",
   "id": "62f1baa7",
   "metadata": {},
   "source": [
    "#### <a name=\"func1\">Fill Null values with mode values function</a>"
   ]
  },
  {
   "cell_type": "code",
   "execution_count": 16,
   "id": "3e4862d8",
   "metadata": {},
   "outputs": [],
   "source": [
    "def fill_Mode(data, cols: list):\n",
    "    '''This fucntion return the dictonary contain the mode value of each column\n",
    "    Params:\n",
    "        data: the pyspark dataFrame\n",
    "        cols: list of columns\n",
    "    return: data fill NaN with mode values\n",
    "    '''\n",
    "    for column in cols:\n",
    "        df1 = data.where(col(column).isNotNull())\n",
    "        df1.registerTempTable('table')\n",
    "        \n",
    "        query = '''SELECT {}, COUNT({}) AS count FROM table \n",
    "        GROUP BY {} ORDER BY count desc'''\n",
    "        \n",
    "        df2 = spark.sql(query.format(column, column, column))\n",
    "        \n",
    "        data = data.fillna({column: df2.first()[column]})\n",
    "        \n",
    "    return data"
   ]
  },
  {
   "cell_type": "code",
   "execution_count": 17,
   "id": "7899e3f4",
   "metadata": {},
   "outputs": [],
   "source": [
    "fill_col = ['Gender', 'Married', 'Dependents', \n",
    "            'Self_Employed', 'Credit_History', 'Loan_Amount_Term']\n",
    "\n",
    "data = fill_Mode(data, fill_col)"
   ]
  },
  {
   "cell_type": "markdown",
   "id": "385632dc",
   "metadata": {},
   "source": [
    "<b>Now let check the LoanAmount variable. As it is a numerical variable, we can use mean or median to impute the missing values. I will use median to fill the null values as earlier loan amount have outliers so the mean value will not be the proper value as it is highly affected by the presence of outliers.</b>"
   ]
  },
  {
   "cell_type": "code",
   "execution_count": 18,
   "id": "52a062c6",
   "metadata": {},
   "outputs": [],
   "source": [
    "median_value = data.select(median(data.LoanAmount)).collect()[0][0]\n",
    "data = data.fillna({\"LoanAmount\": median_value})"
   ]
  },
  {
   "cell_type": "markdown",
   "id": "a63df40c",
   "metadata": {},
   "source": [
    "<b>Check null again</b>"
   ]
  },
  {
   "cell_type": "code",
   "execution_count": 19,
   "id": "d85b4eb5",
   "metadata": {},
   "outputs": [
    {
     "data": {
      "text/html": [
       "<div>\n",
       "<style scoped>\n",
       "    .dataframe tbody tr th:only-of-type {\n",
       "        vertical-align: middle;\n",
       "    }\n",
       "\n",
       "    .dataframe tbody tr th {\n",
       "        vertical-align: top;\n",
       "    }\n",
       "\n",
       "    .dataframe thead th {\n",
       "        text-align: right;\n",
       "    }\n",
       "</style>\n",
       "<table border=\"1\" class=\"dataframe\">\n",
       "  <thead>\n",
       "    <tr style=\"text-align: right;\">\n",
       "      <th></th>\n",
       "      <th>0</th>\n",
       "    </tr>\n",
       "  </thead>\n",
       "  <tbody>\n",
       "    <tr>\n",
       "      <th>Loan_ID</th>\n",
       "      <td>0</td>\n",
       "    </tr>\n",
       "    <tr>\n",
       "      <th>Gender</th>\n",
       "      <td>0</td>\n",
       "    </tr>\n",
       "    <tr>\n",
       "      <th>Married</th>\n",
       "      <td>0</td>\n",
       "    </tr>\n",
       "    <tr>\n",
       "      <th>Dependents</th>\n",
       "      <td>0</td>\n",
       "    </tr>\n",
       "    <tr>\n",
       "      <th>Education</th>\n",
       "      <td>0</td>\n",
       "    </tr>\n",
       "    <tr>\n",
       "      <th>Self_Employed</th>\n",
       "      <td>0</td>\n",
       "    </tr>\n",
       "    <tr>\n",
       "      <th>ApplicantIncome</th>\n",
       "      <td>0</td>\n",
       "    </tr>\n",
       "    <tr>\n",
       "      <th>CoapplicantIncome</th>\n",
       "      <td>0</td>\n",
       "    </tr>\n",
       "    <tr>\n",
       "      <th>LoanAmount</th>\n",
       "      <td>0</td>\n",
       "    </tr>\n",
       "    <tr>\n",
       "      <th>Loan_Amount_Term</th>\n",
       "      <td>0</td>\n",
       "    </tr>\n",
       "    <tr>\n",
       "      <th>Credit_History</th>\n",
       "      <td>0</td>\n",
       "    </tr>\n",
       "    <tr>\n",
       "      <th>Property_Area</th>\n",
       "      <td>0</td>\n",
       "    </tr>\n",
       "    <tr>\n",
       "      <th>Loan_Status</th>\n",
       "      <td>0</td>\n",
       "    </tr>\n",
       "  </tbody>\n",
       "</table>\n",
       "</div>"
      ],
      "text/plain": [
       "                   0\n",
       "Loan_ID            0\n",
       "Gender             0\n",
       "Married            0\n",
       "Dependents         0\n",
       "Education          0\n",
       "Self_Employed      0\n",
       "ApplicantIncome    0\n",
       "CoapplicantIncome  0\n",
       "LoanAmount         0\n",
       "Loan_Amount_Term   0\n",
       "Credit_History     0\n",
       "Property_Area      0\n",
       "Loan_Status        0"
      ]
     },
     "execution_count": 19,
     "metadata": {},
     "output_type": "execute_result"
    }
   ],
   "source": [
    "data.select([count(when(col(c).isNull(), c)).alias(c) for c in data.columns]).toPandas().T"
   ]
  },
  {
   "cell_type": "markdown",
   "id": "0220a9a8",
   "metadata": {},
   "source": [
    "### <a name=\"outliers\">Handle outliers</a>"
   ]
  },
  {
   "cell_type": "markdown",
   "id": "7d5ba70c",
   "metadata": {},
   "source": [
    "As I note in the Overview data that the LoanAmount is fairly normal distribution (albeit still slightly right-skewed) because of the outliers so to deal with this problem, I use the log transformation. <br>\n",
    "\n",
    "The log transformation does not effect the small value but reduce the large value -> so with this the LoanAmount will have the normal distribuiton"
   ]
  },
  {
   "cell_type": "code",
   "execution_count": 20,
   "id": "604d99ab",
   "metadata": {},
   "outputs": [],
   "source": [
    "data = data.withColumn('LoanAmount', log(col('LoanAmount')))"
   ]
  },
  {
   "cell_type": "code",
   "execution_count": 21,
   "id": "8242e330",
   "metadata": {},
   "outputs": [
    {
     "data": {
      "image/png": "[encoded data removed]",
      "text/plain": [
       "<Figure size 640x480 with 1 Axes>"
      ]
     },
     "metadata": {},
     "output_type": "display_data"
    }
   ],
   "source": [
    "#check again\n",
    "temp = data.select(\"LoanAmount\").toPandas()\n",
    "sns.distplot(temp['LoanAmount']);"
   ]
  },
  {
   "cell_type": "markdown",
   "id": "3dea63fa",
   "metadata": {},
   "source": [
    "<b>Now the distribution looks much closer to normal and effect of extreme values has been significantly subsided.</b>"
   ]
  },
  {
   "cell_type": "markdown",
   "id": "9ade056d",
   "metadata": {},
   "source": [
    "### <a name=\"data\">Prepare data for model</a>"
   ]
  },
  {
   "cell_type": "code",
   "execution_count": 22,
   "id": "d8ea1cee",
   "metadata": {},
   "outputs": [],
   "source": [
    "#drop unnecessary column\n",
    "data = data.drop(\"Loan_ID\")"
   ]
  },
  {
   "cell_type": "code",
   "execution_count": 23,
   "id": "bb80b5a7",
   "metadata": {},
   "outputs": [],
   "source": [
    "# Change 3+ in Dependents column, cast string to Integer\n",
    "\n",
    "data = data.withColumn(\"Dependents\", when(col(\"Dependents\") == '3+', '3')\n",
    "                                     .otherwise(col(\"Dependents\")))\n",
    "data = data.withColumn(\"Dependents\", data[\"Dependents\"].cast(IntegerType()))"
   ]
  },
  {
   "cell_type": "code",
   "execution_count": 24,
   "id": "4500f6f1",
   "metadata": {},
   "outputs": [],
   "source": [
    "# Change the LoanStatus from Y-N to 1-0\n",
    "data = data.withColumn(\"Loan_Status\", when(col(\"Loan_Status\") == \"Y\", 1)\n",
    "                                      .when(col(\"Loan_Status\") == \"N\", 0))\n",
    "data = data.withColumn(\"Loan_Status\", data[\"Loan_Status\"].cast(IntegerType()))"
   ]
  },
  {
   "cell_type": "code",
   "execution_count": 25,
   "id": "b0cec4b6",
   "metadata": {},
   "outputs": [
    {
     "name": "stdout",
     "output_type": "stream",
     "text": [
      "root\n",
      " |-- Gender: string (nullable = false)\n",
      " |-- Married: string (nullable = false)\n",
      " |-- Dependents: integer (nullable = true)\n",
      " |-- Education: string (nullable = true)\n",
      " |-- Self_Employed: string (nullable = false)\n",
      " |-- ApplicantIncome: integer (nullable = true)\n",
      " |-- CoapplicantIncome: double (nullable = true)\n",
      " |-- LoanAmount: double (nullable = true)\n",
      " |-- Loan_Amount_Term: integer (nullable = false)\n",
      " |-- Credit_History: integer (nullable = false)\n",
      " |-- Property_Area: string (nullable = true)\n",
      " |-- Loan_Status: integer (nullable = true)\n",
      "\n"
     ]
    }
   ],
   "source": [
    "data.printSchema()"
   ]
  },
  {
   "cell_type": "code",
   "execution_count": 26,
   "id": "2486e4be",
   "metadata": {},
   "outputs": [],
   "source": [
    "# String indexer and OneHotEncoder for some columns\n",
    "indexer1 = StringIndexer(inputCol = 'Gender', outputCol = 'Gender_idx')\n",
    "indexer2 = StringIndexer(inputCol = 'Married', outputCol = 'Married_idx')\n",
    "indexer3 = StringIndexer(inputCol = 'Education', outputCol = 'Education_idx')\n",
    "indexer4 = StringIndexer(inputCol = 'Self_Employed', outputCol = 'Self_Employed_idx')\n",
    "indexer5 = StringIndexer(inputCol = 'Property_Area', outputCol = 'Property_Area_idx')\n",
    "\n",
    "encoder = OneHotEncoder(inputCols = ['Gender_idx', 'Married_idx', 'Education_idx', \n",
    "                                     'Self_Employed_idx', 'Property_Area_idx', 'Dependents'],\n",
    "                        outputCols = ['Gender_en', 'Married_en', 'Education_en', \n",
    "                                     'Self_Employed_en', 'Property_Area_en', 'Dependents_en'])\n",
    "\n",
    "pipeline = Pipeline(stages = [indexer1, indexer2, indexer3, indexer4, indexer5, encoder])\n",
    "indexer_data = pipeline.fit(data).transform(data)"
   ]
  },
  {
   "cell_type": "code",
   "execution_count": 27,
   "id": "4da9de47",
   "metadata": {},
   "outputs": [
    {
     "name": "stdout",
     "output_type": "stream",
     "text": [
      "root\n",
      " |-- Gender: string (nullable = false)\n",
      " |-- Married: string (nullable = false)\n",
      " |-- Dependents: integer (nullable = true)\n",
      " |-- Education: string (nullable = true)\n",
      " |-- Self_Employed: string (nullable = false)\n",
      " |-- ApplicantIncome: integer (nullable = true)\n",
      " |-- CoapplicantIncome: double (nullable = true)\n",
      " |-- LoanAmount: double (nullable = true)\n",
      " |-- Loan_Amount_Term: integer (nullable = false)\n",
      " |-- Credit_History: integer (nullable = false)\n",
      " |-- Property_Area: string (nullable = true)\n",
      " |-- Loan_Status: integer (nullable = true)\n",
      " |-- Gender_idx: double (nullable = false)\n",
      " |-- Married_idx: double (nullable = false)\n",
      " |-- Education_idx: double (nullable = false)\n",
      " |-- Self_Employed_idx: double (nullable = false)\n",
      " |-- Property_Area_idx: double (nullable = false)\n",
      " |-- Gender_en: vector (nullable = true)\n",
      " |-- Married_en: vector (nullable = true)\n",
      " |-- Education_en: vector (nullable = true)\n",
      " |-- Self_Employed_en: vector (nullable = true)\n",
      " |-- Property_Area_en: vector (nullable = true)\n",
      " |-- Dependents_en: vector (nullable = true)\n",
      "\n"
     ]
    }
   ],
   "source": [
    "indexer_data.printSchema()"
   ]
  },
  {
   "cell_type": "code",
   "execution_count": 28,
   "id": "48f14a35",
   "metadata": {},
   "outputs": [],
   "source": [
    "assembler = VectorAssembler(inputCols = ['Gender_en', 'Married_en', 'Education_en', \n",
    "                                         'Self_Employed_en', 'Property_Area_en',\n",
    "                                        'ApplicantIncome', 'CoapplicantIncome', 'Dependents_en', \n",
    "                                        'LoanAmount', 'Loan_Amount_Term', 'Credit_History'],\n",
    "                            outputCol = 'features')\n",
    "final_data = assembler.transform(indexer_data)"
   ]
  },
  {
   "cell_type": "code",
   "execution_count": 29,
   "id": "f9f08cc9",
   "metadata": {},
   "outputs": [
    {
     "name": "stdout",
     "output_type": "stream",
     "text": [
      "+--------------------+-----------+\n",
      "|            features|Loan_Status|\n",
      "+--------------------+-----------+\n",
      "|[1.0,0.0,1.0,1.0,...|          1|\n",
      "|[1.0,1.0,1.0,1.0,...|          0|\n",
      "|[1.0,1.0,1.0,0.0,...|          1|\n",
      "|[1.0,1.0,0.0,1.0,...|          1|\n",
      "|[1.0,0.0,1.0,1.0,...|          1|\n",
      "+--------------------+-----------+\n",
      "only showing top 5 rows\n",
      "\n"
     ]
    }
   ],
   "source": [
    "final_data = final_data.select('features', 'Loan_Status')\n",
    "final_data.show(5)"
   ]
  },
  {
   "cell_type": "markdown",
   "id": "73102999",
   "metadata": {},
   "source": [
    "## <a name=\"model\">Building model</a>"
   ]
  },
  {
   "cell_type": "markdown",
   "id": "93da07d7",
   "metadata": {},
   "source": [
    "### <a name=\"split\">Split data</a>"
   ]
  },
  {
   "cell_type": "code",
   "execution_count": 30,
   "id": "6fad63a2",
   "metadata": {},
   "outputs": [],
   "source": [
    "train_data, test_data = final_data.randomSplit([0.7, 0.3], seed = 42)"
   ]
  },
  {
   "cell_type": "code",
   "execution_count": 31,
   "id": "80dbde32",
   "metadata": {},
   "outputs": [
    {
     "name": "stdout",
     "output_type": "stream",
     "text": [
      "+-------+-------------------+\n",
      "|summary|        Loan_Status|\n",
      "+-------+-------------------+\n",
      "|  count|                456|\n",
      "|   mean| 0.7039473684210527|\n",
      "| stddev|0.45701586943577416|\n",
      "|    min|                  0|\n",
      "|    max|                  1|\n",
      "+-------+-------------------+\n",
      "\n"
     ]
    }
   ],
   "source": [
    "train_data.describe().show()"
   ]
  },
  {
   "cell_type": "code",
   "execution_count": 32,
   "id": "325fdf57",
   "metadata": {},
   "outputs": [
    {
     "name": "stdout",
     "output_type": "stream",
     "text": [
      "+-------+------------------+\n",
      "|summary|       Loan_Status|\n",
      "+-------+------------------+\n",
      "|  count|               158|\n",
      "|   mean|0.6392405063291139|\n",
      "| stddev|0.4817478055556703|\n",
      "|    min|                 0|\n",
      "|    max|                 1|\n",
      "+-------+------------------+\n",
      "\n"
     ]
    }
   ],
   "source": [
    "test_data.describe().show()"
   ]
  },
  {
   "cell_type": "markdown",
   "id": "0b26fa4f",
   "metadata": {},
   "source": [
    "### <a name=\"logistic\">Logistic regression</a>"
   ]
  },
  {
   "cell_type": "code",
   "execution_count": 33,
   "id": "f7c2466b",
   "metadata": {},
   "outputs": [],
   "source": [
    "lr = LogisticRegression(featuresCol = \"features\",\n",
    "                        labelCol = \"Loan_Status\",\n",
    "                        predictionCol = \"Predict Loan_Status\",\n",
    "                        family = 'binomial', )\n",
    "lrModel = lr.fit(train_data)"
   ]
  },
  {
   "cell_type": "code",
   "execution_count": 34,
   "id": "b88d0551",
   "metadata": {},
   "outputs": [
    {
     "name": "stdout",
     "output_type": "stream",
     "text": [
      "+-----------+-------------------+\n",
      "|Loan_Status|Predict Loan_Status|\n",
      "+-----------+-------------------+\n",
      "|          0|                0.0|\n",
      "|          1|                1.0|\n",
      "|          1|                1.0|\n",
      "|          0|                0.0|\n",
      "|          1|                1.0|\n",
      "+-----------+-------------------+\n",
      "only showing top 5 rows\n",
      "\n"
     ]
    }
   ],
   "source": [
    "test_model = lrModel.transform(test_data)\n",
    "prediction = test_model.select(\"Loan_Status\", \"Predict Loan_Status\")\n",
    "prediction.show(5)"
   ]
  },
  {
   "cell_type": "code",
   "execution_count": 35,
   "id": "5de80b94",
   "metadata": {},
   "outputs": [
    {
     "name": "stdout",
     "output_type": "stream",
     "text": [
      "Accuracy: 0.8164556962025317\n",
      "AUC: 0.7494354698627758\n"
     ]
    }
   ],
   "source": [
    "eval_accuracy = MulticlassClassificationEvaluator(labelCol = \"Loan_Status\", \n",
    "                                                  predictionCol = \"Predict Loan_Status\", \n",
    "                                                  metricName = \"accuracy\")\n",
    "\n",
    "eval_auc = BinaryClassificationEvaluator(labelCol = \"Loan_Status\", \n",
    "                                         rawPredictionCol = \"Predict Loan_Status\")\n",
    "\n",
    "print(\"Accuracy: {}\".format(eval_accuracy.evaluate(test_model)))\n",
    "print(\"AUC: {}\".format(eval_auc.evaluate(test_model)))"
   ]
  },
  {
   "cell_type": "markdown",
   "id": "91601c20",
   "metadata": {},
   "source": [
    "So our predictions are over 81% accurate, i.e. we have identified 81% of the loan status correctly.\n",
    "<br>The AUC > 0.7 -> the model seem good. Let's check the precision and recall."
   ]
  },
  {
   "cell_type": "code",
   "execution_count": 36,
   "id": "95c27606",
   "metadata": {},
   "outputs": [],
   "source": [
    "evaluator = MulticlassClassificationEvaluator(predictionCol = \"Predict Loan_Status\",\n",
    "                                              labelCol = \"Loan_Status\")"
   ]
  },
  {
   "cell_type": "code",
   "execution_count": 37,
   "id": "54b2ad0a",
   "metadata": {},
   "outputs": [
    {
     "data": {
      "text/plain": [
       "0.78125"
      ]
     },
     "execution_count": 37,
     "metadata": {},
     "output_type": "execute_result"
    }
   ],
   "source": [
    "precision = evaluator.evaluate(test_model, {evaluator.metricName: \"precisionByLabel\",\n",
    "                                             evaluator.metricLabel: 1.0})\n",
    "precision"
   ]
  },
  {
   "cell_type": "code",
   "execution_count": 38,
   "id": "f330a083",
   "metadata": {},
   "outputs": [
    {
     "data": {
      "text/plain": [
       "0.9900990099009901"
      ]
     },
     "execution_count": 38,
     "metadata": {},
     "output_type": "execute_result"
    }
   ],
   "source": [
    "recall = evaluator.evaluate(test_model, {evaluator.metricName: \"recallByLabel\",\n",
    "                                             evaluator.metricLabel: 1.0})\n",
    "recall"
   ]
  },
  {
   "cell_type": "markdown",
   "id": "ec55f25c",
   "metadata": {},
   "source": [
    "<b>The performance of our model seems encouraging, with accuracy of 81%, precision of 78% and recall of 99%.</b>"
   ]
  },
  {
   "cell_type": "markdown",
   "id": "d54d5704",
   "metadata": {},
   "source": [
    "### <a name=\"tree\">Decision Tree Classifier</a>"
   ]
  },
  {
   "cell_type": "code",
   "execution_count": 39,
   "id": "b5e7e645",
   "metadata": {},
   "outputs": [],
   "source": [
    "dct = DecisionTreeClassifier(featuresCol = 'features',\n",
    "                             labelCol = 'Loan_Status',\n",
    "                             predictionCol = 'Predict Loan_Status', maxDepth = 4)\n",
    "dctModel = dct.fit(train_data)"
   ]
  },
  {
   "cell_type": "code",
   "execution_count": 40,
   "id": "68717f20",
   "metadata": {},
   "outputs": [
    {
     "name": "stdout",
     "output_type": "stream",
     "text": [
      "+-----------+-------------------+\n",
      "|Loan_Status|Predict Loan_Status|\n",
      "+-----------+-------------------+\n",
      "|          0|                0.0|\n",
      "|          1|                1.0|\n",
      "|          1|                1.0|\n",
      "|          0|                0.0|\n",
      "|          1|                1.0|\n",
      "+-----------+-------------------+\n",
      "only showing top 5 rows\n",
      "\n"
     ]
    }
   ],
   "source": [
    "test_tree = dctModel.transform(test_data)\n",
    "pre_tree = test_tree.select(\"Loan_Status\", \"Predict Loan_Status\")\n",
    "pre_tree.show(5)"
   ]
  },
  {
   "cell_type": "code",
   "execution_count": 41,
   "id": "6578c0db",
   "metadata": {},
   "outputs": [
    {
     "name": "stdout",
     "output_type": "stream",
     "text": [
      "Accuracy: 0.8037974683544303\n",
      "AUC: 0.7357130449887094\n"
     ]
    }
   ],
   "source": [
    "eval_accuracy = MulticlassClassificationEvaluator(labelCol = \"Loan_Status\", \n",
    "                                                  predictionCol = \"Predict Loan_Status\", \n",
    "                                                  metricName = \"accuracy\")\n",
    "\n",
    "eval_auc = BinaryClassificationEvaluator(labelCol = \"Loan_Status\", \n",
    "                                         rawPredictionCol = \"Predict Loan_Status\")\n",
    "\n",
    "print(\"Accuracy: {}\".format(eval_accuracy.evaluate(test_tree)))\n",
    "print(\"AUC: {}\".format(eval_auc.evaluate(test_tree)))"
   ]
  },
  {
   "cell_type": "code",
   "execution_count": 42,
   "id": "e436ac02",
   "metadata": {},
   "outputs": [],
   "source": [
    "evaluator = MulticlassClassificationEvaluator(predictionCol = \"Predict Loan_Status\",\n",
    "                                              labelCol = \"Loan_Status\")"
   ]
  },
  {
   "cell_type": "code",
   "execution_count": 43,
   "id": "b4946c28",
   "metadata": {},
   "outputs": [
    {
     "data": {
      "text/plain": [
       "0.7734375"
      ]
     },
     "execution_count": 43,
     "metadata": {},
     "output_type": "execute_result"
    }
   ],
   "source": [
    "precision = evaluator.evaluate(test_tree, {evaluator.metricName: \"precisionByLabel\",\n",
    "                                             evaluator.metricLabel: 1.0})\n",
    "precision"
   ]
  },
  {
   "cell_type": "code",
   "execution_count": 44,
   "id": "05713594",
   "metadata": {},
   "outputs": [
    {
     "data": {
      "text/plain": [
       "0.9801980198019802"
      ]
     },
     "execution_count": 44,
     "metadata": {},
     "output_type": "execute_result"
    }
   ],
   "source": [
    "recall = evaluator.evaluate(test_tree, {evaluator.metricName: \"recallByLabel\",\n",
    "                                             evaluator.metricLabel: 1.0})\n",
    "recall"
   ]
  },
  {
   "cell_type": "markdown",
   "id": "672a85a0",
   "metadata": {},
   "source": [
    "<b>Note:</b> I can see that these two model has nearly the same accuarcy, precision and recall so choose one of them is ok"
   ]
  },
  {
   "cell_type": "markdown",
   "id": "d449b8f7",
   "metadata": {},
   "source": [
    "## <a name=\"predict\">Prediction with new data</a>"
   ]
  },
  {
   "cell_type": "markdown",
   "id": "49e1a52d",
   "metadata": {},
   "source": [
    "### <a name=\"new\">New data</a>"
   ]
  },
  {
   "cell_type": "code",
   "execution_count": 45,
   "id": "b91df2a7",
   "metadata": {},
   "outputs": [],
   "source": [
    "new_data = spark.read.csv(\"HomeLoan/loan_sanction_test.csv\", inferSchema = True, header = True)"
   ]
  },
  {
   "cell_type": "code",
   "execution_count": 46,
   "id": "f4c95a36",
   "metadata": {},
   "outputs": [
    {
     "name": "stdout",
     "output_type": "stream",
     "text": [
      "root\n",
      " |-- Loan_ID: string (nullable = true)\n",
      " |-- Gender: string (nullable = true)\n",
      " |-- Married: string (nullable = true)\n",
      " |-- Dependents: string (nullable = true)\n",
      " |-- Education: string (nullable = true)\n",
      " |-- Self_Employed: string (nullable = true)\n",
      " |-- ApplicantIncome: integer (nullable = true)\n",
      " |-- CoapplicantIncome: integer (nullable = true)\n",
      " |-- LoanAmount: integer (nullable = true)\n",
      " |-- Loan_Amount_Term: integer (nullable = true)\n",
      " |-- Credit_History: integer (nullable = true)\n",
      " |-- Property_Area: string (nullable = true)\n",
      "\n"
     ]
    }
   ],
   "source": [
    "new_data.printSchema()"
   ]
  },
  {
   "cell_type": "markdown",
   "id": "bec91a8f",
   "metadata": {},
   "source": [
    "### <a name=\"modeled\">Process new data</a>"
   ]
  },
  {
   "cell_type": "code",
   "execution_count": 47,
   "id": "6e7e8860",
   "metadata": {},
   "outputs": [
    {
     "data": {
      "text/html": [
       "<div>\n",
       "<style scoped>\n",
       "    .dataframe tbody tr th:only-of-type {\n",
       "        vertical-align: middle;\n",
       "    }\n",
       "\n",
       "    .dataframe tbody tr th {\n",
       "        vertical-align: top;\n",
       "    }\n",
       "\n",
       "    .dataframe thead th {\n",
       "        text-align: right;\n",
       "    }\n",
       "</style>\n",
       "<table border=\"1\" class=\"dataframe\">\n",
       "  <thead>\n",
       "    <tr style=\"text-align: right;\">\n",
       "      <th></th>\n",
       "      <th>0</th>\n",
       "    </tr>\n",
       "  </thead>\n",
       "  <tbody>\n",
       "    <tr>\n",
       "      <th>Loan_ID</th>\n",
       "      <td>0</td>\n",
       "    </tr>\n",
       "    <tr>\n",
       "      <th>Gender</th>\n",
       "      <td>11</td>\n",
       "    </tr>\n",
       "    <tr>\n",
       "      <th>Married</th>\n",
       "      <td>0</td>\n",
       "    </tr>\n",
       "    <tr>\n",
       "      <th>Dependents</th>\n",
       "      <td>10</td>\n",
       "    </tr>\n",
       "    <tr>\n",
       "      <th>Education</th>\n",
       "      <td>0</td>\n",
       "    </tr>\n",
       "    <tr>\n",
       "      <th>Self_Employed</th>\n",
       "      <td>23</td>\n",
       "    </tr>\n",
       "    <tr>\n",
       "      <th>ApplicantIncome</th>\n",
       "      <td>0</td>\n",
       "    </tr>\n",
       "    <tr>\n",
       "      <th>CoapplicantIncome</th>\n",
       "      <td>0</td>\n",
       "    </tr>\n",
       "    <tr>\n",
       "      <th>LoanAmount</th>\n",
       "      <td>5</td>\n",
       "    </tr>\n",
       "    <tr>\n",
       "      <th>Loan_Amount_Term</th>\n",
       "      <td>6</td>\n",
       "    </tr>\n",
       "    <tr>\n",
       "      <th>Credit_History</th>\n",
       "      <td>29</td>\n",
       "    </tr>\n",
       "    <tr>\n",
       "      <th>Property_Area</th>\n",
       "      <td>0</td>\n",
       "    </tr>\n",
       "  </tbody>\n",
       "</table>\n",
       "</div>"
      ],
      "text/plain": [
       "                    0\n",
       "Loan_ID             0\n",
       "Gender             11\n",
       "Married             0\n",
       "Dependents         10\n",
       "Education           0\n",
       "Self_Employed      23\n",
       "ApplicantIncome     0\n",
       "CoapplicantIncome   0\n",
       "LoanAmount          5\n",
       "Loan_Amount_Term    6\n",
       "Credit_History     29\n",
       "Property_Area       0"
      ]
     },
     "execution_count": 47,
     "metadata": {},
     "output_type": "execute_result"
    }
   ],
   "source": [
    "new_data.select([count(when(col(c).isNull(), c)).alias(c) for c in new_data.columns]).toPandas().T"
   ]
  },
  {
   "cell_type": "code",
   "execution_count": 48,
   "id": "efbdd283",
   "metadata": {},
   "outputs": [],
   "source": [
    "fill_col = ['Gender','Dependents', 'Self_Employed', \n",
    "            'Credit_History', 'Loan_Amount_Term']\n",
    "\n",
    "predict_data = fill_Mode(new_data, fill_col)"
   ]
  },
  {
   "cell_type": "code",
   "execution_count": 49,
   "id": "ac03a573",
   "metadata": {},
   "outputs": [],
   "source": [
    "median_value = predict_data.select(median(predict_data.LoanAmount)).collect()[0][0]\n",
    "predict_data = predict_data.fillna({\"LoanAmount\": median_value})"
   ]
  },
  {
   "cell_type": "code",
   "execution_count": 50,
   "id": "5c18c816",
   "metadata": {},
   "outputs": [
    {
     "data": {
      "text/html": [
       "<div>\n",
       "<style scoped>\n",
       "    .dataframe tbody tr th:only-of-type {\n",
       "        vertical-align: middle;\n",
       "    }\n",
       "\n",
       "    .dataframe tbody tr th {\n",
       "        vertical-align: top;\n",
       "    }\n",
       "\n",
       "    .dataframe thead th {\n",
       "        text-align: right;\n",
       "    }\n",
       "</style>\n",
       "<table border=\"1\" class=\"dataframe\">\n",
       "  <thead>\n",
       "    <tr style=\"text-align: right;\">\n",
       "      <th></th>\n",
       "      <th>0</th>\n",
       "    </tr>\n",
       "  </thead>\n",
       "  <tbody>\n",
       "    <tr>\n",
       "      <th>Loan_ID</th>\n",
       "      <td>0</td>\n",
       "    </tr>\n",
       "    <tr>\n",
       "      <th>Gender</th>\n",
       "      <td>0</td>\n",
       "    </tr>\n",
       "    <tr>\n",
       "      <th>Married</th>\n",
       "      <td>0</td>\n",
       "    </tr>\n",
       "    <tr>\n",
       "      <th>Dependents</th>\n",
       "      <td>0</td>\n",
       "    </tr>\n",
       "    <tr>\n",
       "      <th>Education</th>\n",
       "      <td>0</td>\n",
       "    </tr>\n",
       "    <tr>\n",
       "      <th>Self_Employed</th>\n",
       "      <td>0</td>\n",
       "    </tr>\n",
       "    <tr>\n",
       "      <th>ApplicantIncome</th>\n",
       "      <td>0</td>\n",
       "    </tr>\n",
       "    <tr>\n",
       "      <th>CoapplicantIncome</th>\n",
       "      <td>0</td>\n",
       "    </tr>\n",
       "    <tr>\n",
       "      <th>LoanAmount</th>\n",
       "      <td>0</td>\n",
       "    </tr>\n",
       "    <tr>\n",
       "      <th>Loan_Amount_Term</th>\n",
       "      <td>0</td>\n",
       "    </tr>\n",
       "    <tr>\n",
       "      <th>Credit_History</th>\n",
       "      <td>0</td>\n",
       "    </tr>\n",
       "    <tr>\n",
       "      <th>Property_Area</th>\n",
       "      <td>0</td>\n",
       "    </tr>\n",
       "  </tbody>\n",
       "</table>\n",
       "</div>"
      ],
      "text/plain": [
       "                   0\n",
       "Loan_ID            0\n",
       "Gender             0\n",
       "Married            0\n",
       "Dependents         0\n",
       "Education          0\n",
       "Self_Employed      0\n",
       "ApplicantIncome    0\n",
       "CoapplicantIncome  0\n",
       "LoanAmount         0\n",
       "Loan_Amount_Term   0\n",
       "Credit_History     0\n",
       "Property_Area      0"
      ]
     },
     "execution_count": 50,
     "metadata": {},
     "output_type": "execute_result"
    }
   ],
   "source": [
    "predict_data.select([count(when(col(c).isNull(), c)).alias(c) for c in predict_data.columns]).toPandas().T"
   ]
  },
  {
   "cell_type": "code",
   "execution_count": 51,
   "id": "e446dbb4",
   "metadata": {},
   "outputs": [],
   "source": [
    "predict_data = predict_data.withColumn('LoanAmount', log(col('LoanAmount')))"
   ]
  },
  {
   "cell_type": "code",
   "execution_count": 52,
   "id": "4449cd94",
   "metadata": {},
   "outputs": [],
   "source": [
    "predict_data = predict_data.withColumn(\"Dependents\", when(col(\"Dependents\") == '3+', '3')\n",
    "                                             .otherwise(col(\"Dependents\")))\n",
    "predict_data = predict_data.withColumn(\"Dependents\", predict_data[\"Dependents\"].cast(IntegerType()))"
   ]
  },
  {
   "cell_type": "code",
   "execution_count": 53,
   "id": "135a8be5",
   "metadata": {},
   "outputs": [],
   "source": [
    "predict_data = pipeline.fit(predict_data).transform(predict_data)"
   ]
  },
  {
   "cell_type": "code",
   "execution_count": 54,
   "id": "508535a0",
   "metadata": {},
   "outputs": [],
   "source": [
    "predict_data = assembler.transform(predict_data)"
   ]
  },
  {
   "cell_type": "code",
   "execution_count": 55,
   "id": "da668173",
   "metadata": {},
   "outputs": [
    {
     "name": "stdout",
     "output_type": "stream",
     "text": [
      "+--------------------+\n",
      "|            features|\n",
      "+--------------------+\n",
      "|[1.0,1.0,1.0,1.0,...|\n",
      "|[1.0,1.0,1.0,1.0,...|\n",
      "|[1.0,1.0,1.0,1.0,...|\n",
      "+--------------------+\n",
      "only showing top 3 rows\n",
      "\n"
     ]
    }
   ],
   "source": [
    "final_pre_data = predict_data.select(\"features\")\n",
    "final_pre_data.show(3)"
   ]
  },
  {
   "cell_type": "markdown",
   "id": "ab6bdb65",
   "metadata": {},
   "source": [
    "### <a name=\"result\">Prediction and result</a>"
   ]
  },
  {
   "cell_type": "code",
   "execution_count": 56,
   "id": "da266669",
   "metadata": {},
   "outputs": [
    {
     "name": "stdout",
     "output_type": "stream",
     "text": [
      "+--------------------+-------------------+\n",
      "|            features|Predict Loan_Status|\n",
      "+--------------------+-------------------+\n",
      "|[1.0,1.0,1.0,1.0,...|                1.0|\n",
      "|[1.0,1.0,1.0,1.0,...|                1.0|\n",
      "|[1.0,1.0,1.0,1.0,...|                1.0|\n",
      "|[1.0,1.0,1.0,1.0,...|                1.0|\n",
      "|(14,[0,3,4,6,8,11...|                1.0|\n",
      "+--------------------+-------------------+\n",
      "only showing top 5 rows\n",
      "\n"
     ]
    }
   ],
   "source": [
    "result = lrModel.transform(final_pre_data)\n",
    "result.select('features','Predict Loan_Status').show(5)"
   ]
  },
  {
   "cell_type": "code",
   "execution_count": 57,
   "id": "ff3c793c",
   "metadata": {},
   "outputs": [
    {
     "name": "stdout",
     "output_type": "stream",
     "text": [
      "+--------------------+--------------------+--------------------+-------------------+\n",
      "|            features|       rawPrediction|         probability|Predict Loan_Status|\n",
      "+--------------------+--------------------+--------------------+-------------------+\n",
      "|[1.0,1.0,1.0,1.0,...|[-2.2264098121338...|[0.09740382118160...|                1.0|\n",
      "|[1.0,1.0,1.0,1.0,...|[-1.8773068382147...|[0.13269852202789...|                1.0|\n",
      "|[1.0,1.0,1.0,1.0,...|[-2.1895452887196...|[0.10069326207241...|                1.0|\n",
      "|[1.0,1.0,1.0,1.0,...|[-2.2339996304504...|[0.09673858821049...|                1.0|\n",
      "|(14,[0,3,4,6,8,11...|[-1.4802144555326...|[0.18539502923710...|                1.0|\n",
      "|[1.0,1.0,0.0,0.0,...|[-1.8725828136879...|[0.13324315223322...|                1.0|\n",
      "|(14,[3,5,6,9,11,1...|[-0.5471035975865...|[0.36653665719259...|                1.0|\n",
      "|(14,[0,1,3,6,10,1...|[2.27927414577829...|[0.90714592465379...|                0.0|\n",
      "|[1.0,1.0,1.0,1.0,...|[-2.5552631061397...|[0.07207369991938...|                1.0|\n",
      "|[1.0,0.0,0.0,1.0,...|[-0.5175297728954...|[0.37343003658662...|                1.0|\n",
      "|(14,[0,3,4,6,8,11...|[-1.4591203305291...|[0.18860190523808...|                1.0|\n",
      "|[1.0,1.0,1.0,1.0,...|[-1.1500686096164...|[0.24047655144737...|                1.0|\n",
      "|(14,[0,2,3,4,6,11...|[-2.1859778115975...|[0.10101677235910...|                1.0|\n",
      "|[1.0,1.0,1.0,1.0,...|[1.92078514345323...|[0.87222596179332...|                0.0|\n",
      "|(14,[2,3,5,6,8,11...|[-0.9474747750955...|[0.27939294855467...|                1.0|\n",
      "|[1.0,0.0,1.0,1.0,...|[-1.5128718304768...|[0.18051357794228...|                1.0|\n",
      "|[1.0,1.0,1.0,1.0,...|[-2.0993198620141...|[0.10916294458392...|                1.0|\n",
      "|[1.0,1.0,1.0,1.0,...|[-1.4017721408650...|[0.19753505003533...|                1.0|\n",
      "|[1.0,1.0,1.0,1.0,...|[-1.3958580563018...|[0.19847419809186...|                1.0|\n",
      "|[1.0,0.0,1.0,1.0,...|[-1.1508827152365...|[0.24032788844394...|                1.0|\n",
      "+--------------------+--------------------+--------------------+-------------------+\n",
      "only showing top 20 rows\n",
      "\n"
     ]
    }
   ],
   "source": [
    "result.show()"
   ]
  },
  {
   "cell_type": "code",
   "execution_count": 58,
   "id": "80e51468",
   "metadata": {},
   "outputs": [],
   "source": [
    "final_result = predict_data.join(result, predict_data.features == result.features, \"inner\")"
   ]
  },
  {
   "cell_type": "code",
   "execution_count": 59,
   "id": "6911e6d2",
   "metadata": {},
   "outputs": [],
   "source": [
    "list_col = data.columns\n",
    "list_col.remove(\"Loan_Status\")\n",
    "list_col.append(\"Predict Loan_Status\")"
   ]
  },
  {
   "cell_type": "code",
   "execution_count": 60,
   "id": "355e3c3b",
   "metadata": {},
   "outputs": [
    {
     "name": "stdout",
     "output_type": "stream",
     "text": [
      "root\n",
      " |-- Gender: string (nullable = false)\n",
      " |-- Married: string (nullable = true)\n",
      " |-- Dependents: integer (nullable = true)\n",
      " |-- Education: string (nullable = true)\n",
      " |-- Self_Employed: string (nullable = false)\n",
      " |-- ApplicantIncome: integer (nullable = true)\n",
      " |-- CoapplicantIncome: integer (nullable = true)\n",
      " |-- LoanAmount: double (nullable = true)\n",
      " |-- Loan_Amount_Term: integer (nullable = false)\n",
      " |-- Credit_History: integer (nullable = false)\n",
      " |-- Property_Area: string (nullable = true)\n",
      " |-- Predict Loan_Status: double (nullable = false)\n",
      "\n"
     ]
    }
   ],
   "source": [
    "final_result = final_result.select(list_col)\n",
    "final_result.printSchema()"
   ]
  },
  {
   "cell_type": "code",
   "execution_count": 63,
   "id": "83fa89f8",
   "metadata": {},
   "outputs": [],
   "source": [
    "final_result.write.option(\"header\",True).csv(\"HomeLoan/Result\")"
   ]
  }
 ],
 "metadata": {
  "kernelspec": {
   "display_name": "Python 3 (ipykernel)",
   "language": "python",
   "name": "python3"
  },
  "language_info": {
   "codemirror_mode": {
    "name": "ipython",
    "version": 3
   },
   "file_extension": ".py",
   "mimetype": "text/x-python",
   "name": "python",
   "nbconvert_exporter": "python",
   "pygments_lexer": "ipython3",
   "version": "3.11.5"
  }
 },
 "nbformat": 4,
 "nbformat_minor": 5
}
